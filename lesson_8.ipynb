{
 "cells": [
  {
   "cell_type": "code",
   "execution_count": 1,
   "metadata": {},
   "outputs": [],
   "source": [
    "def my_function(*args): #adding arguments to a function\n",
    "    for arg in args:\n",
    "        print (f'Argument is {arg}')"
   ]
  },
  {
   "cell_type": "code",
   "execution_count": 2,
   "metadata": {},
   "outputs": [
    {
     "name": "stdout",
     "output_type": "stream",
     "text": [
      "Argument is 11\n",
      "Argument is 41894\n",
      "Argument is hello\n",
      "Argument is [1, 0.5]\n"
     ]
    }
   ],
   "source": [
    "my_function(11,41894,\"hello\",[1,.5])"
   ]
  },
  {
   "cell_type": "code",
   "execution_count": 3,
   "metadata": {},
   "outputs": [],
   "source": [
    "def my_function(add_number,*args,text='hello'):\n",
    "    for arg in args:\n",
    "        print (f'Argument + {add_number} is {add_number + arg}')\n",
    "        print(text)"
   ]
  },
  {
   "cell_type": "code",
   "execution_count": 4,
   "metadata": {},
   "outputs": [
    {
     "name": "stdout",
     "output_type": "stream",
     "text": [
      "Argument + 14 is 114\n",
      "Moody\n",
      "Argument + 14 is 64\n",
      "Moody\n",
      "Argument + 14 is 80\n",
      "Moody\n"
     ]
    }
   ],
   "source": [
    "my_function(14,100,50,66,text='Moody')"
   ]
  },
  {
   "cell_type": "code",
   "execution_count": 5,
   "metadata": {},
   "outputs": [],
   "source": [
    "def my_function_2 (add_number, list_of_numbers):\n",
    "    for arg in list_of_numbers:\n",
    "        print(f'Argument + {add_number} {add_number + arg}')"
   ]
  },
  {
   "cell_type": "code",
   "execution_count": 6,
   "metadata": {},
   "outputs": [
    {
     "name": "stdout",
     "output_type": "stream",
     "text": [
      "Argument + 14 114\n",
      "Argument + 14 64\n",
      "Argument + 14 80\n"
     ]
    }
   ],
   "source": [
    "my_function_2(14,[100,50,66])"
   ]
  },
  {
   "cell_type": "code",
   "execution_count": 7,
   "metadata": {},
   "outputs": [],
   "source": [
    "def my_kwargs(text,**kwargs): #creates a dictionary\n",
    "    for k,v in kwargs.items():\n",
    "        print (f'key is {k} with a value of {v}')"
   ]
  },
  {
   "cell_type": "code",
   "execution_count": 8,
   "metadata": {},
   "outputs": [
    {
     "name": "stdout",
     "output_type": "stream",
     "text": [
      "key is radius with a value of 10\n",
      "key is names with a value of ['Tomas', 'Darius']\n"
     ]
    }
   ],
   "source": [
    "my_kwargs(text='hello', radius=10, names=['Tomas','Darius'])"
   ]
  },
  {
   "cell_type": "code",
   "execution_count": 9,
   "metadata": {},
   "outputs": [],
   "source": [
    "#Examples: my_function(1,2,65,30)\n",
    "# result:\n",
    "# my_dict = {1: 4, 2: 2, 3: 1, 4: 0, 5: 2, 6: 1, 7: 0, 8: 0, 9: 0, 10: 1}\n",
    "from collections import defaultdict\n",
    "\n",
    "def my_function_3 (*args):\n",
    "    #result_dict = {1:0,2:0,3:0,4:0,5:0,6:0,7:0,8:0,9:0,10:0} #manual way\n",
    "    result_dict = { key:0 for key in range(1,11) }\n",
    "    #list comprehension\n",
    "    #result_dict = defaultdict(int) #default dictionary\n",
    "    #result_dict[0]\n",
    "    #result_dict[5]\n",
    "    for number in args:\n",
    "        for key_number in result_dict.keys():\n",
    "            if number % key_number == 0:\n",
    "                result_dict[key_number] += 1\n",
    "\n",
    "    return result_dict"
   ]
  },
  {
   "cell_type": "code",
   "execution_count": 10,
   "metadata": {},
   "outputs": [
    {
     "data": {
      "text/plain": [
       "{1: 4, 2: 2, 3: 1, 4: 0, 5: 2, 6: 1, 7: 0, 8: 0, 9: 0, 10: 1}"
      ]
     },
     "execution_count": 10,
     "metadata": {},
     "output_type": "execute_result"
    }
   ],
   "source": [
    "my_function_3(1,2,65,30)"
   ]
  },
  {
   "cell_type": "code",
   "execution_count": 11,
   "metadata": {},
   "outputs": [
    {
     "name": "stdout",
     "output_type": "stream",
     "text": [
      "0 while loop\n",
      "1 while loop\n",
      "2 while loop\n",
      "3 while loop\n",
      "4 while loop\n",
      "end of while loop\n"
     ]
    }
   ],
   "source": [
    "x=0\n",
    "while x<5:\n",
    "    print (f'{x} while loop')\n",
    "    x += 1\n",
    "print ('end of while loop')"
   ]
  },
  {
   "cell_type": "code",
   "execution_count": 12,
   "metadata": {},
   "outputs": [
    {
     "name": "stdout",
     "output_type": "stream",
     "text": [
      "hi\n",
      "You entered this number: 4\n"
     ]
    }
   ],
   "source": [
    "print('hi')\n",
    "while True: #while loop needs to be stopped\n",
    "    user_input=input('enter a number: ')\n",
    "    if user_input.isdecimal():\n",
    "        print (f'You entered this number: {user_input}')\n",
    "        break #stops the loop\n",
    "    print('input is not a number, try again')"
   ]
  },
  {
   "cell_type": "code",
   "execution_count": 13,
   "metadata": {},
   "outputs": [],
   "source": [
    "def string_analyzer(string_1:str):\n",
    "    letters = 0\n",
    "    numbers = 0\n",
    "    special = 0\n",
    "    spaces = 0\n",
    "    for character in string_1:\n",
    "        if character.isalpha():\n",
    "            letters +=1\n",
    "        elif character.isdigit():\n",
    "            numbers +=1\n",
    "        elif character.isspace():\n",
    "            spaces +=1\n",
    "        else:\n",
    "            special +=1\n",
    "    return f'There are {len(string_1)} symbols, {numbers} numbers, {letters} characters, {spaces} spaces, {special} specials'"
   ]
  },
  {
   "cell_type": "code",
   "execution_count": 14,
   "metadata": {},
   "outputs": [
    {
     "name": "stdout",
     "output_type": "stream",
     "text": [
      "There are 9 symbols, 1 numbers, 3 characters, 2 spaces, 3 specials\n"
     ]
    }
   ],
   "source": [
    "print(string_analyzer('one 2 ???'))"
   ]
  },
  {
   "cell_type": "code",
   "execution_count": 17,
   "metadata": {},
   "outputs": [
    {
     "name": "stdout",
     "output_type": "stream",
     "text": [
      "10\n",
      "2596911246384\n",
      "world\n",
      "after function global_variable is global\n"
     ]
    }
   ],
   "source": [
    "global_variable='global'\n",
    "\n",
    "def simple_function():\n",
    "    local_variable=10\n",
    "    print(local_variable)\n",
    "    #global global_variable #changes the variable overall\n",
    "    global_variable='world' #only changes the variable within the function\n",
    "    print(id(global_variable))\n",
    "    print(global_variable)\n",
    "\n",
    "simple_function()\n",
    "print (f'after function global_variable is {global_variable}')\n",
    "#print (local_variable) #error,can't access local function variable"
   ]
  },
  {
   "cell_type": "code",
   "execution_count": 18,
   "metadata": {},
   "outputs": [
    {
     "name": "stdout",
     "output_type": "stream",
     "text": [
      "10\n",
      "2596911246384\n",
      "world\n",
      "after function global_variable is global\n"
     ]
    }
   ],
   "source": [
    "global_variable='global'\n",
    "\n",
    "def simple_function(value):\n",
    "    local_variable=10\n",
    "    print(local_variable)\n",
    "    #global global_variable #changes the variable overall\n",
    "    global_variable='world' #only changes the variable within the function\n",
    "    print(id(global_variable))\n",
    "    print(global_variable)\n",
    "\n",
    "simple_function(global_variable)\n",
    "print (f'after function global_variable is {global_variable}')\n",
    "#print (local_variable) #error,can't access local function variable"
   ]
  },
  {
   "cell_type": "code",
   "execution_count": 21,
   "metadata": {},
   "outputs": [],
   "source": [
    "list_1=([1,5,6,10,4])\n",
    "\n",
    "def list_1(my_list):\n",
    "    min_value=my_list[0]\n",
    "    max_value=my_list[0]\n",
    "    for number in my_list[1:]:\n",
    "        if number < min_value:\n",
    "            min_value=number\n",
    "        elif number > max_value:\n",
    "            max_value=number\n",
    "        print(f'min: {min_value}, max: {max_value}')\n",
    "    return max_value - min_value"
   ]
  },
  {
   "cell_type": "code",
   "execution_count": 22,
   "metadata": {},
   "outputs": [
    {
     "name": "stdout",
     "output_type": "stream",
     "text": [
      "min: 1, max: 3\n",
      "min: 1, max: 4\n",
      "min: 1, max: 21\n",
      "min: 1, max: 33\n",
      "min: 1, max: 33\n"
     ]
    },
    {
     "data": {
      "text/plain": [
       "32"
      ]
     },
     "execution_count": 22,
     "metadata": {},
     "output_type": "execute_result"
    }
   ],
   "source": [
    "list_1([1,3,4,21,33,22])"
   ]
  },
  {
   "cell_type": "code",
   "execution_count": 23,
   "metadata": {},
   "outputs": [],
   "source": [
    "def list_1(my_list):\n",
    "    min_value=min(my_list)\n",
    "    max_value=max(my_list)\n",
    "    return max_value - min_value"
   ]
  },
  {
   "cell_type": "code",
   "execution_count": 24,
   "metadata": {},
   "outputs": [
    {
     "data": {
      "text/plain": [
       "32"
      ]
     },
     "execution_count": 24,
     "metadata": {},
     "output_type": "execute_result"
    }
   ],
   "source": [
    "list_1([1,3,4,21,33,22])"
   ]
  },
  {
   "cell_type": "code",
   "execution_count": 26,
   "metadata": {},
   "outputs": [],
   "source": [
    "def list_checker(list_1, list_2):\n",
    "    counter = 0\n",
    "    for number in set(list_1):\n",
    "        counter += list_2.count(number)\n",
    "    return (counter)"
   ]
  },
  {
   "cell_type": "code",
   "execution_count": 28,
   "metadata": {},
   "outputs": [
    {
     "data": {
      "text/plain": [
       "9"
      ]
     },
     "execution_count": 28,
     "metadata": {},
     "output_type": "execute_result"
    }
   ],
   "source": [
    "list_checker([1,1,1,1,1,2,2,2,2,3,4], [111,1,1,1,3,2,4,2,4,1])"
   ]
  }
 ],
 "metadata": {
  "interpreter": {
   "hash": "126b06dd3950ee075bbec4f5a8d9da3a7c7c385767bffed3b81c8ab9743c826b"
  },
  "kernelspec": {
   "display_name": "Python 3.9.7 64-bit",
   "language": "python",
   "name": "python3"
  },
  "language_info": {
   "codemirror_mode": {
    "name": "ipython",
    "version": 3
   },
   "file_extension": ".py",
   "mimetype": "text/x-python",
   "name": "python",
   "nbconvert_exporter": "python",
   "pygments_lexer": "ipython3",
   "version": "3.9.7"
  },
  "orig_nbformat": 4
 },
 "nbformat": 4,
 "nbformat_minor": 2
}
