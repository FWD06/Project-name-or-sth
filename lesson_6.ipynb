{
 "cells": [
  {
   "cell_type": "code",
   "execution_count": 1,
   "metadata": {},
   "outputs": [
    {
     "name": "stdout",
     "output_type": "stream",
     "text": [
      "FWD\n"
     ]
    }
   ],
   "source": [
    "user_input=''\n",
    "\n",
    "user_input=input(\"Enter your name\")\n",
    "if len(user_input)>0:\n",
    "    print(user_input)"
   ]
  },
  {
   "cell_type": "code",
   "execution_count": 5,
   "metadata": {},
   "outputs": [
    {
     "name": "stdout",
     "output_type": "stream",
     "text": [
      "user_input has no value, enter it.\n",
      "User name is: FWD\n",
      "User name is: FWD\n",
      "User name is: FWD\n",
      "User name is: FWD\n"
     ]
    }
   ],
   "source": [
    "#None declaration\n",
    "user_input=None\n",
    "\n",
    "for i in range(5):\n",
    "    if user_input is None:\n",
    "        print('user_input has no value, enter it.')\n",
    "        user_input=input(\"Enter your name\")\n",
    "        if not user_input:\n",
    "            print(f\"You haven't entered anything\")\n",
    "            user_input=None\n",
    "    else:\n",
    "        print(f'User name is: {user_input}')"
   ]
  },
  {
   "cell_type": "code",
   "execution_count": 6,
   "metadata": {},
   "outputs": [
    {
     "data": {
      "text/plain": [
       "NoneType"
      ]
     },
     "execution_count": 6,
     "metadata": {},
     "output_type": "execute_result"
    }
   ],
   "source": [
    "type(None)"
   ]
  },
  {
   "cell_type": "code",
   "execution_count": 7,
   "metadata": {},
   "outputs": [
    {
     "name": "stdout",
     "output_type": "stream",
     "text": [
      "Run the Jewels\n"
     ]
    }
   ],
   "source": [
    "#Back to dictionaries\n",
    "my_dictionary={\n",
    "    'band': 'Run the Jewels',\n",
    "    'year': 2020,\n",
    "    False:'false',\n",
    "    4:'four',\n",
    "    'tracks':['Nobody Speak','Thieves']\n",
    "} #only one key\n",
    "print(my_dictionary['band'])"
   ]
  },
  {
   "cell_type": "code",
   "execution_count": 8,
   "metadata": {},
   "outputs": [
    {
     "data": {
      "text/plain": [
       "'Thieves'"
      ]
     },
     "execution_count": 8,
     "metadata": {},
     "output_type": "execute_result"
    }
   ],
   "source": [
    "#get sth out of a list in a dictionary\n",
    "my_dictionary['tracks'][1]"
   ]
  },
  {
   "cell_type": "code",
   "execution_count": 9,
   "metadata": {},
   "outputs": [],
   "source": [
    "car={\n",
    "    \"brand\":\"Ford\",\n",
    "    \"model\":\"Mustang\",\n",
    "    \"year\":1964\n",
    "}"
   ]
  },
  {
   "cell_type": "code",
   "execution_count": 10,
   "metadata": {},
   "outputs": [
    {
     "name": "stdout",
     "output_type": "stream",
     "text": [
      "Ford\n"
     ]
    }
   ],
   "source": [
    "print(car['brand'])"
   ]
  },
  {
   "cell_type": "code",
   "execution_count": 11,
   "metadata": {},
   "outputs": [
    {
     "name": "stdout",
     "output_type": "stream",
     "text": [
      "3\n"
     ]
    }
   ],
   "source": [
    "print(len(car))"
   ]
  },
  {
   "cell_type": "code",
   "execution_count": 12,
   "metadata": {},
   "outputs": [],
   "source": [
    "car['year']=2020"
   ]
  },
  {
   "cell_type": "code",
   "execution_count": 13,
   "metadata": {},
   "outputs": [
    {
     "name": "stdout",
     "output_type": "stream",
     "text": [
      "{'brand': 'Ford', 'model': 'Mustang', 'year': 2020}\n"
     ]
    }
   ],
   "source": [
    "print(car)\n"
   ]
  },
  {
   "cell_type": "code",
   "execution_count": 14,
   "metadata": {},
   "outputs": [
    {
     "name": "stdout",
     "output_type": "stream",
     "text": [
      "{'brand': 'Ford', 'model': 'Mustang', 'year': 2020, 'color': 'red', 'used': True}\n"
     ]
    }
   ],
   "source": [
    "car.update({'color':'red', 'used':True})\n",
    "print(car)"
   ]
  },
  {
   "cell_type": "code",
   "execution_count": 15,
   "metadata": {},
   "outputs": [
    {
     "name": "stdout",
     "output_type": "stream",
     "text": [
      "Ford\n",
      "{'model': 'Mustang', 'year': 2020, 'color': 'red', 'used': True}\n"
     ]
    }
   ],
   "source": [
    "print (car.pop('brand'))\n",
    "print(car)"
   ]
  },
  {
   "cell_type": "code",
   "execution_count": 16,
   "metadata": {},
   "outputs": [],
   "source": [
    "#sets\n",
    "drivers={'Leclerc','Sainz','Alonso','Ocon',16,55,14,31}"
   ]
  },
  {
   "cell_type": "code",
   "execution_count": 17,
   "metadata": {},
   "outputs": [
    {
     "name": "stdout",
     "output_type": "stream",
     "text": [
      "{'Leclerc', 'Sainz', 14, 16, 55, 'Ocon', 'Alonso', 31}\n"
     ]
    }
   ],
   "source": [
    "print(drivers)"
   ]
  },
  {
   "cell_type": "code",
   "execution_count": 19,
   "metadata": {},
   "outputs": [
    {
     "name": "stdout",
     "output_type": "stream",
     "text": [
      "{'Wilhelm', 'Dräger', 'Friedrich'}\n",
      "3\n"
     ]
    }
   ],
   "source": [
    "names=['Friedrich','Friedrich','Wilhelm','Dräger','Friedrich']\n",
    "print(set(names))\n",
    "print(len(set(names)))"
   ]
  },
  {
   "cell_type": "code",
   "execution_count": 21,
   "metadata": {},
   "outputs": [
    {
     "name": "stdout",
     "output_type": "stream",
     "text": [
      "{'Leclerc', 3, 5, 7, 'Sainz', 14, 16, 'Räikkönen', 'Vettel', 55, 'Ocon', 'Alonso', 'Ricciardo', 31}\n"
     ]
    }
   ],
   "source": [
    "#add values\n",
    "drivers.update(['Räikkönen','Ricciardo','Vettel',7,3,5])\n",
    "print(drivers)"
   ]
  },
  {
   "cell_type": "code",
   "execution_count": 22,
   "metadata": {},
   "outputs": [
    {
     "name": "stdout",
     "output_type": "stream",
     "text": [
      "{'Leclerc', 5, 7, 'Sainz', 14, 16, 'Räikkönen', 'Vettel', 55, 'Ocon', 'Alonso', 'Ricciardo', 31}\n"
     ]
    }
   ],
   "source": [
    "#more functions: drivers.clear(),drivers.copy(),drivers.pop()\n",
    "#there's also remove and discard -> remove only works if the value is still in the set, otherwise it gives you an error\n",
    "#discard always works, no matter if the value is still in the set\n",
    "drivers.discard(3)\n",
    "drivers.discard(3)\n",
    "print(drivers)"
   ]
  },
  {
   "cell_type": "code",
   "execution_count": 24,
   "metadata": {},
   "outputs": [
    {
     "name": "stdout",
     "output_type": "stream",
     "text": [
      "{444, 333, 222, 111}\n",
      "{24, 4, 1999}\n",
      "{4, 999, 1000, 777, 1001, 555, 333, 111, 1999, 888, 24, 666, 444, 222}\n"
     ]
    }
   ],
   "source": [
    "set_1={24,4,1999,111,222,333,444}\n",
    "set_2={24,4,1999,555,666,777,888}\n",
    "set_3={24,4,1999,999,1000,1001}\n",
    "print(set_1.difference(set_2,set_3)) #shows which values in set 1 are different to the other sets\n",
    "print(set_1.intersection(set_2,set_3)) #shows values that are shared in sets\n",
    "print(set_1.union(set_2,set_3)) #merges sets"
   ]
  },
  {
   "cell_type": "code",
   "execution_count": 26,
   "metadata": {},
   "outputs": [
    {
     "name": "stdout",
     "output_type": "stream",
     "text": [
      "{'banana', ('new_value', 5), 'cherry', 'apple'}\n"
     ]
    }
   ],
   "source": [
    "fruits={\"apple\",\"banana\",\"cherry\"}\n",
    "fruits.update([('new_value',5)])\n",
    "print(fruits)"
   ]
  },
  {
   "cell_type": "code",
   "execution_count": 30,
   "metadata": {},
   "outputs": [
    {
     "name": "stdout",
     "output_type": "stream",
     "text": [
      "{'t', 'watermelon', 'a', 'r', 'l', ('new_value', 5), 'm', 'o', 'banana', 'cherry', 'n', 'e', 'w'}\n"
     ]
    }
   ],
   "source": [
    "fruits.discard(\"apple\")\n",
    "fruits.update([\"watermelon\"])\n",
    "print(fruits)"
   ]
  },
  {
   "cell_type": "code",
   "execution_count": 31,
   "metadata": {},
   "outputs": [
    {
     "name": "stdout",
     "output_type": "stream",
     "text": [
      "{'banana', ('new_value', 5), 'cherry', 'apple'}\n"
     ]
    }
   ],
   "source": [
    "fruits={\"apple\",\"banana\",\"cherry\"}\n",
    "fruits.update([('new_value',5)])\n",
    "print(fruits)"
   ]
  },
  {
   "cell_type": "code",
   "execution_count": 32,
   "metadata": {},
   "outputs": [
    {
     "name": "stdout",
     "output_type": "stream",
     "text": [
      "{'cherry', 'apple', ('new_value', 5), 'watermelon'}\n"
     ]
    }
   ],
   "source": [
    "#solutions 1\n",
    "tmp_list=list(fruits)\n",
    "tmp_list[0]='watermelon'\n",
    "fruits=set(tmp_list)\n",
    "print(fruits)"
   ]
  },
  {
   "cell_type": "code",
   "execution_count": 37,
   "metadata": {},
   "outputs": [
    {
     "name": "stdout",
     "output_type": "stream",
     "text": [
      "{'banana', 'cherry', 'apple', 'watermelon'}\n",
      "{'pear', 'apple', 'watermelon', 'kiwi', 'banana', 'cherry', 'orange', 'pineapple'}\n",
      "{'pear', 'watermelon', 'kiwi', 'banana', 'cherry', 'orange', 'pineapple'}\n"
     ]
    }
   ],
   "source": [
    "fruits={\"apple\",\"banana\",\"cherry\"}\n",
    "fruits.add('watermelon')\n",
    "print(fruits)\n",
    "fruits.update(['pineapple','pear','orange','kiwi'])\n",
    "print(fruits)\n",
    "fruits.discard('apple')\n",
    "print(fruits)"
   ]
  },
  {
   "cell_type": "code",
   "execution_count": 38,
   "metadata": {},
   "outputs": [],
   "source": [
    "song_1=\"\"\"\n",
    "That was me in BK on Atlantic\n",
    "Never looked both ways, ran in traffic\n",
    "Pops went away but I stayed, vagrant\n",
    "Placed where the steel and cement became nature\n",
    "Love what you did with the place, it looks gorgeous\n",
    "Cityscape where the blood of good men courses\n",
    "And the dreamers are bull trapped in porcelain\n",
    "Take a knee to the gods and get horse shit\n",
    "Wanna live for the thrill? They'll arrange it\n",
    "Got a bevy of imps to spit hatred\n",
    "Shit'll get in your head and cause panic\n",
    "Have you desperately begging to get famous\n",
    "Get your dignity dirty and left orphaned\n",
    "Sanity on the fringe of distorted\n",
    "Who are they to just take shit and hoard it?\n",
    "Who am I that I don't get my portion?\n",
    "The most impressionable minds\n",
    "Get molested and informed by manipulating forces\n",
    "Don't fret, little man, don't cry\n",
    "They can never take the energy inside you were born with\n",
    "Knowing that, understand you could never be poor\n",
    "You already won the war, you were born rich\n",
    "You can only take the energy you had\n",
    "Going back to the realm or the home where your Lord is\n",
    "Whoever, whatever that Lord is\n",
    "Couldn't give a fuck if you ever made fortunes\n",
    "Fuck anyone ever tryin' to run that bum shit\n",
    "Send 'em to the flames where the orcs live\n",
    "Them and the lost minds thinking they're smarter than us\n",
    "Don't understand love's importance\n",
    "And we can weaponize that, bring 'em back to the truth\n",
    "Where the ashes and dust got formed in\n",
    "The beat breaks and your teeth break\n",
    "Keep your canines embedded in my knuckles as a keepsake\n",
    "It would seem your veneers just mere souvenirs\n",
    "Falling out your mouth and on to the landscape\n",
    "Me and El-P do the secret handshake\n",
    "Then I pummel punch a pumpkin head punk in his pimple face\n",
    "'Til he's punch drunk 'cause he's sweet as a pound cake\n",
    "(Ain't he pussy, Mike?) Yeah, El, I'll say\n",
    "Into the wild, wild style ghetto child running wild\n",
    "Where the lions and the owls stay\n",
    "The powers that be even offered up reprieves\n",
    "Told us they ain't take us out if we bow to our knees\n",
    "But they can give that to the kings and the queens\n",
    "And the worshipers of idols and followers of things\n",
    "'Cause I would rather be in the jungle with the savages\n",
    "It's kill or be killed, and I'm working with the averages\n",
    "My professor emeritus\n",
    "Say we been cursed being brought to the AmeriKKKas\n",
    "How you raise a whole human single parent\n",
    "No marriages, no sense of heritage?\n",
    "Planned Parenthood helping plan miscarriages\n",
    "But I'm lucky mommy already had a narrative\n",
    "Product of a teenage love, my arrogance\n",
    "Derives from the pride in the job my parents did\n",
    "Named Mike, I was told it was godlike\n",
    "Even danced with the devil, came out alright\n",
    "Okay, honor y'all? No way\n",
    "Still spell AmeriKKKa with the triple K\n",
    "Word up to Spice 1 and O'Shea\n",
    "And any MC peeping what I go through\n",
    "Real rap, my last line's so true\n",
    "Rest in peace to Pimp C and Camu, too\n",
    "We do it for you\n",
    "\"\"\""
   ]
  },
  {
   "cell_type": "code",
   "execution_count": 39,
   "metadata": {},
   "outputs": [
    {
     "name": "stdout",
     "output_type": "stream",
     "text": [
      "\n",
      "That was me in BK on Atlantic\n",
      "Never looked both ways, ran in traffic\n",
      "Pops went away but I stayed, vagrant\n",
      "Placed where the steel and cement became nature\n",
      "Love what you did with the place, it looks gorgeous\n",
      "Cityscape where the blood of good men courses\n",
      "And the dreamers are bull trapped in porcelain\n",
      "Take a knee to the gods and get horse shit\n",
      "Wanna live for the thrill? They'll arrange it\n",
      "Got a bevy of imps to spit hatred\n",
      "Shit'll get in your head and cause panic\n",
      "Have you desperately begging to get famous\n",
      "Get your dignity dirty and left orphaned\n",
      "Sanity on the fringe of distorted\n",
      "Who are they to just take shit and hoard it?\n",
      "Who am I that I don't get my portion?\n",
      "The most impressionable minds\n",
      "Get molested and informed by manipulating forces\n",
      "Don't fret, little man, don't cry\n",
      "They can never take the energy inside you were born with\n",
      "Knowing that, understand you could never be poor\n",
      "You already won the war, you were born rich\n",
      "You can only take the energy you had\n",
      "Going back to the realm or the home where your Lord is\n",
      "Whoever, whatever that Lord is\n",
      "Couldn't give a fuck if you ever made fortunes\n",
      "Fuck anyone ever tryin' to run that bum shit\n",
      "Send 'em to the flames where the orcs live\n",
      "Them and the lost minds thinking they're smarter than us\n",
      "Don't understand love's importance\n",
      "And we can weaponize that, bring 'em back to the truth\n",
      "Where the ashes and dust got formed in\n",
      "The beat breaks and your teeth break\n",
      "Keep your canines embedded in my knuckles as a keepsake\n",
      "It would seem your veneers just mere souvenirs\n",
      "Falling out your mouth and on to the landscape\n",
      "Me and El-P do the secret handshake\n",
      "Then I pummel punch a pumpkin head punk in his pimple face\n",
      "'Til he's punch drunk 'cause he's sweet as a pound cake\n",
      "(Ain't he pussy, Mike?) Yeah, El, I'll say\n",
      "Into the wild, wild style ghetto child running wild\n",
      "Where the lions and the owls stay\n",
      "The powers that be even offered up reprieves\n",
      "Told us they ain't take us out if we bow to our knees\n",
      "But they can give that to the kings and the queens\n",
      "And the worshipers of idols and followers of things\n",
      "'Cause I would rather be in the jungle with the savages\n",
      "It's kill or be killed, and I'm working with the averages\n",
      "My professor emeritus\n",
      "Say we been cursed being brought to the AmeriKKKas\n",
      "How you raise a whole human single parent\n",
      "No marriages, no sense of heritage?\n",
      "Planned Parenthood helping plan miscarriages\n",
      "But I'm lucky mommy already had a narrative\n",
      "Product of a teenage love, my arrogance\n",
      "Derives from the pride in the job my parents did\n",
      "Named Mike, I was told it was godlike\n",
      "Even danced with the devil, came out alright\n",
      "Okay, honor y'all? No way\n",
      "Still spell AmeriKKKa with the triple K\n",
      "Word up to Spice 1 and O'Shea\n",
      "And any MC peeping what I go through\n",
      "Real rap, my last line's so true\n",
      "Rest in peace to Pimp C and Camu, too\n",
      "We do it for you\n",
      "\n"
     ]
    }
   ],
   "source": [
    "print(song_1)"
   ]
  },
  {
   "cell_type": "code",
   "execution_count": 43,
   "metadata": {},
   "outputs": [
    {
     "name": "stdout",
     "output_type": "stream",
     "text": [
      "['that', 'was', 'me', 'in', 'bk', 'on', 'atlantic', 'never', 'looked', 'both', 'ways', 'ran', 'in', 'traffic', 'pops', 'went', 'away', 'but', 'i', 'stayed', 'vagrant', 'placed', 'where', 'steel', 'and', 'cement', 'became', 'nature', 'love', 'what', 'you', 'did', 'with', 'place', 'it', 'looks', 'gorgeous', 'cityscape', 'where', 'blood', 'of', 'good', 'men', 'courses', 'and', 'dreamers', 'are', 'bull', 'trapped', 'in', 'porcelain', 'take', 'a', 'knee', 'to', 'gods', 'and', 'get', 'horse', 'shit', 'wanna', 'live', 'for', 'thrill', 'yll', 'arrange', 'it', 'got', 'a', 'bevy', 'of', 'imps', 'to', 'spit', 'hatred', 'shitll', 'get', 'in', 'your', 'head', 'and', 'cause', 'panic', 'have', 'you', 'desperately', 'begging', 'to', 'get', 'famous', 'get', 'your', 'dignity', 'dirty', 'and', 'left', 'orphaned', 'sanity', 'on', 'fringe', 'of', 'distorted', 'who', 'are', 'y', 'to', 'just', 'take', 'shit', 'and', 'hoard', 'it', 'who', 'am', 'i', 'that', 'i', 'dont', 'get', 'my', 'portion', 'most', 'impressionable', 'minds', 'get', 'molested', 'and', 'informed', 'by', 'manipulating', 'forces', 'dont', 'fret', 'little', 'man', 'dont', 'cry', 'y', 'can', 'never', 'take', 'energy', 'inside', 'you', 'were', 'born', 'with', 'knowing', 'that', 'understand', 'you', 'could', 'never', 'be', 'poor', 'you', 'already', 'won', 'war', 'you', 'were', 'born', 'rich', 'you', 'can', 'only', 'take', 'energy', 'you', 'had', 'going', 'back', 'to', 'realm', 'or', 'home', 'where', 'your', 'lord', 'is', 'whoever', 'whatever', 'that', 'lord', 'is', 'couldnt', 'give', 'a', 'fuck', 'if', 'you', 'ever', 'made', 'fortunes', 'fuck', 'anyone', 'ever', 'tryin', 'to', 'run', 'that', 'bum', 'shit', 'send', 'em', 'to', 'flames', 'where', 'orcs', 'live', 'm', 'and', 'lost', 'minds', 'thinking', 'yre', 'smarter', 'than', 'us', 'dont', 'understand', 'loves', 'importance', 'and', 'we', 'can', 'weaponize', 'that', 'bring', 'em', 'back', 'to', 'truth', 'where', 'ashes', 'and', 'dust', 'got', 'formed', 'in', 'beat', 'breaks', 'and', 'your', 'teeth', 'break', 'keep', 'your', 'canines', 'embedded', 'in', 'my', 'knuckles', 'as', 'a', 'keepsake', 'it', 'would', 'seem', 'your', 'veneers', 'just', 'mere', 'souvenirs', 'falling', 'out', 'your', 'mouth', 'and', 'on', 'to', 'landscape', 'me', 'and', 'el-p', 'do', 'secret', 'handshake', 'n', 'i', 'pummel', 'punch', 'a', 'pumpkin', 'head', 'punk', 'in', 'his', 'pimple', 'face', 'til', 'hes', 'punch', 'drunk', 'cause', 'hes', 'sweet', 'as', 'a', 'pound', 'cake', 'aint', 'he', 'pussy', 'mike', 'yeah', 'el', 'ill', 'say', 'into', 'wild', 'wild', 'style', 'ghetto', 'child', 'running', 'wild', 'where', 'lions', 'and', 'owls', 'stay', 'powers', 'that', 'be', 'even', 'offered', 'up', 'reprieves', 'told', 'us', 'y', 'aint', 'take', 'us', 'out', 'if', 'we', 'bow', 'to', 'our', 'knees', 'but', 'y', 'can', 'give', 'that', 'to', 'kings', 'and', 'queens', 'and', 'worshipers', 'of', 'idols', 'and', 'followers', 'of', 'things', 'cause', 'i', 'would', 'rar', 'be', 'in', 'jungle', 'with', 'savages', 'its', 'kill', 'or', 'be', 'killed', 'and', 'im', 'working', 'with', 'averages', 'my', 'professor', 'emeritus', 'say', 'we', 'been', 'cursed', 'being', 'brought', 'to', 'amerikkkas', 'how', 'you', 'raise', 'a', 'whole', 'human', 'single', 'parent', 'no', 'marriages', 'no', 'sense', 'of', 'heritage', 'planned', 'parenthood', 'helping', 'plan', 'miscarriages', 'but', 'im', 'lucky', 'mommy', 'already', 'had', 'a', 'narrative', 'product', 'of', 'a', 'teenage', 'love', 'my', 'arrogance', 'derives', 'from', 'pride', 'in', 'job', 'my', 'parents', 'did', 'named', 'mike', 'i', 'was', 'told', 'it', 'was', 'godlike', 'even', 'danced', 'with', 'devil', 'came', 'out', 'alright', 'okay', 'honor', 'yall', 'no', 'way', 'still', 'spell', 'amerikkka', 'with', 'triple', 'k', 'word', 'up', 'to', 'spice', '1', 'and', 'oshea', 'and', 'any', 'mc', 'peeping', 'what', 'i', 'go', 'through', 'real', 'rap', 'my', 'last', 'lines', 'so', 'true', 'rest', 'in', 'peace', 'to', 'pimp', 'c', 'and', 'camu', 'too', 'we', 'do', 'it', 'for', 'you']\n"
     ]
    }
   ],
   "source": [
    "filtered_song_1=song_1.lower().replace('the','').replace('?','').replace(',','').replace('(','').replace(')','').replace('\\'','').split()\n",
    "print(filtered_song_1)"
   ]
  }
 ],
 "metadata": {
  "interpreter": {
   "hash": "126b06dd3950ee075bbec4f5a8d9da3a7c7c385767bffed3b81c8ab9743c826b"
  },
  "kernelspec": {
   "display_name": "Python 3.9.7 64-bit",
   "language": "python",
   "name": "python3"
  },
  "language_info": {
   "codemirror_mode": {
    "name": "ipython",
    "version": 3
   },
   "file_extension": ".py",
   "mimetype": "text/x-python",
   "name": "python",
   "nbconvert_exporter": "python",
   "pygments_lexer": "ipython3",
   "version": "3.9.7"
  },
  "orig_nbformat": 4
 },
 "nbformat": 4,
 "nbformat_minor": 2
}
