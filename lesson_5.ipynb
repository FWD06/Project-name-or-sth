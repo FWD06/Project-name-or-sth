{
 "cells": [
  {
   "cell_type": "code",
   "execution_count": 1,
   "metadata": {},
   "outputs": [
    {
     "name": "stdout",
     "output_type": "stream",
     "text": [
      "[1, 2, 3, 7, 6, 5, 5, 5, 5, 5]\n",
      "[1, 2, 3, 7, 6, 5, 5, 5, 5]\n",
      "[7, 6, 5, 5, 5, 5, 3, 2, 1]\n",
      "number 7 repeats 1 times\n",
      "number 6 repeats 1 times\n",
      "number 5 repeats 4 times\n",
      "number 5 repeats 4 times\n",
      "number 5 repeats 4 times\n",
      "number 5 repeats 4 times\n",
      "number 3 repeats 1 times\n",
      "number 2 repeats 1 times\n",
      "number 1 repeats 1 times\n"
     ]
    }
   ],
   "source": [
    "# new_list = [1,2,3] + ['1','2','3' ]\n",
    "new_list = [1,2,3] + [7,6,5,5,5,5,5 ]\n",
    "print (new_list)\n",
    "new_list.pop()\n",
    "print (new_list)\n",
    "new_list.sort(reverse=True)\n",
    "print (new_list)\n",
    "for number in new_list:\n",
    "    print(f'number {number} repeats {new_list.count(number)} times')"
   ]
  },
  {
   "cell_type": "code",
   "execution_count": 2,
   "metadata": {},
   "outputs": [
    {
     "name": "stdout",
     "output_type": "stream",
     "text": [
      "3\n",
      "[1, 3, 5, 9]\n"
     ]
    }
   ],
   "source": [
    "my_list = [ 1, 3, 5 ]\n",
    "print (len(my_list))\n",
    "my_list.append(9)\n",
    "print(my_list)"
   ]
  },
  {
   "cell_type": "code",
   "execution_count": 3,
   "metadata": {},
   "outputs": [
    {
     "data": {
      "text/plain": [
       "False"
      ]
     },
     "execution_count": 3,
     "metadata": {},
     "output_type": "execute_result"
    }
   ],
   "source": [
    "8 in my_list"
   ]
  },
  {
   "cell_type": "code",
   "execution_count": 4,
   "metadata": {},
   "outputs": [
    {
     "name": "stdout",
     "output_type": "stream",
     "text": [
      "(1, 2, 3, 5, 23, 54)\n",
      "[1, 2, 3]\n",
      "[1, 2]\n",
      "number 1 repeats 1 times\n",
      "number 2 repeats 1 times\n",
      "number 3 repeats 1 times\n",
      "number 5 repeats 1 times\n",
      "number 23 repeats 1 times\n",
      "number 54 repeats 1 times\n",
      "max value in tuple 54\n",
      "[54, 23, 5, 3, 2, 1]\n",
      "max value in tuple 54\n"
     ]
    }
   ],
   "source": [
    "tuple1=(1,2,3)\n",
    "tuple2=(5,23,54)\n",
    "new_tuple=tuple1 + tuple2\n",
    "print(new_tuple)\n",
    "list_1=list(tuple1)\n",
    "print(list_1)\n",
    "list_1.pop()\n",
    "print(list_1)\n",
    "for number in new_tuple:\n",
    "    print(f'number {number} repeats {new_tuple.count(number)} times')\n",
    "print(f'max value in tuple {max(new_tuple)}')\n",
    "tmp_list=list(new_tuple)\n",
    "tmp_list.sort(reverse=True)\n",
    "print(tmp_list)\n",
    "print(f'max value in tuple {tmp_list[0]}')"
   ]
  },
  {
   "cell_type": "code",
   "execution_count": 5,
   "metadata": {},
   "outputs": [
    {
     "name": "stdout",
     "output_type": "stream",
     "text": [
      "1\n",
      "2\n",
      "3\n",
      "4\n",
      "5\n",
      "6\n",
      "7\n",
      "8\n",
      "9\n",
      "10\n"
     ]
    }
   ],
   "source": [
    "for number in range(1,11):\n",
    "    print(number)"
   ]
  },
  {
   "cell_type": "code",
   "execution_count": 6,
   "metadata": {},
   "outputs": [
    {
     "name": "stdout",
     "output_type": "stream",
     "text": [
      "1275\n"
     ]
    }
   ],
   "source": [
    "my_sum = 0\n",
    "for number in range(1,51):\n",
    "    my_sum+=number\n",
    "print (my_sum)"
   ]
  },
  {
   "cell_type": "code",
   "execution_count": 7,
   "metadata": {},
   "outputs": [
    {
     "name": "stdout",
     "output_type": "stream",
     "text": [
      "number 24 multiplied by 1 is equal to 24\n",
      "number 24 multiplied by 2 is equal to 48\n",
      "number 24 multiplied by 3 is equal to 72\n",
      "number 24 multiplied by 4 is equal to 96\n",
      "number 24 multiplied by 5 is equal to 120\n",
      "number 24 multiplied by 6 is equal to 144\n",
      "number 24 multiplied by 7 is equal to 168\n",
      "number 24 multiplied by 8 is equal to 192\n",
      "number 24 multiplied by 9 is equal to 216\n",
      "number 24 multiplied by 10 is equal to 240\n"
     ]
    }
   ],
   "source": [
    "user_input=input('Enter a number:')\n",
    "user_number=int(user_input)\n",
    "for i in range(1,11):\n",
    "    print(f'number {user_number} multiplied by {i} is equal to {user_number*i}')\n",
    "#homework end"
   ]
  },
  {
   "cell_type": "code",
   "execution_count": 9,
   "metadata": {},
   "outputs": [
    {
     "name": "stdout",
     "output_type": "stream",
     "text": [
      "Right...\n",
      "You see\n"
     ]
    }
   ],
   "source": [
    "#simple if statement\n",
    "#only does sth if requirement is met, otherwise it just goes on in the code\n",
    "if 24>4:\n",
    "    print('Right...')\n",
    "\n",
    "if 4>4:\n",
    "    print('Right...')\n",
    "print('You see')"
   ]
  },
  {
   "cell_type": "code",
   "execution_count": 10,
   "metadata": {},
   "outputs": [
    {
     "name": "stdout",
     "output_type": "stream",
     "text": [
      "number is more than twenty four\n"
     ]
    }
   ],
   "source": [
    "number=99\n",
    "if number > 24:\n",
    "    print('number is more than twenty four')\n",
    "else:\n",
    "    print('number is below twenty four')\n",
    "#lv 2: what if reqirement is met, what if not"
   ]
  },
  {
   "cell_type": "code",
   "execution_count": 15,
   "metadata": {},
   "outputs": [
    {
     "name": "stdout",
     "output_type": "stream",
     "text": [
      "you are too young\n"
     ]
    }
   ],
   "source": [
    "name = 'Fernando'\n",
    "year=2001\n",
    "\n",
    "if name =='Fernando': #for if everything will be excuted if the requirement is met\n",
    "    print('Hi Fernando')\n",
    "elif year>1999:\n",
    "    print('you are too young')\n",
    "elif name=='Esteban':\n",
    "    print('Are you still no 2?') #the order is important for elif, only the first meeting the requirement will be executed\n",
    "else: #executed in case all statements are false\n",
    "    print('Non-Alpine driver')\n"
   ]
  },
  {
   "cell_type": "code",
   "execution_count": 20,
   "metadata": {},
   "outputs": [
    {
     "name": "stdout",
     "output_type": "stream",
     "text": [
      "[4, 28, 52, 76, 100, 124, 148, 172, 196, 220, 244, 268, 292, 316, 340, 364, 388, 412, 436, 460, 484, 508, 532, 556, 580, 604, 628, 652, 676, 700, 724, 748, 772, 796, 820, 844, 868, 892, 916, 940, 964, 988, 1012, 1036, 1060, 1084, 1108, 1132, 1156, 1180, 1204, 1228, 1252, 1276, 1300, 1324, 1348, 1372, 1396, 1420, 1444, 1468, 1492, 1516, 1540, 1564, 1588, 1612, 1636, 1660, 1684, 1708, 1732, 1756, 1780, 1804, 1828, 1852, 1876, 1900, 1924, 1948, 1972, 1996]\n",
      "0\n",
      "0\n",
      "0\n",
      "0\n",
      "0\n",
      "0\n",
      "0\n",
      "0\n",
      "0\n",
      "0\n",
      "0\n",
      "0\n",
      "0\n",
      "0\n",
      "0\n",
      "0\n",
      "0\n",
      "0\n",
      "0\n",
      "0\n"
     ]
    }
   ],
   "source": [
    "my_list=list(range(4,1999,24))\n",
    "print(my_list)\n",
    "\n",
    "for idx in range (4,len(my_list)):\n",
    "    if idx %4==0:\n",
    "        print(number)"
   ]
  },
  {
   "cell_type": "code",
   "execution_count": 21,
   "metadata": {},
   "outputs": [
    {
     "name": "stdout",
     "output_type": "stream",
     "text": [
      "2\n",
      "6\n",
      "12\n",
      "20\n",
      "30\n",
      "42\n",
      "56\n",
      "72\n",
      "90\n",
      "110\n",
      "132\n",
      "156\n",
      "182\n",
      "210\n",
      "240\n",
      "272\n",
      "306\n",
      "342\n",
      "380\n",
      "420\n",
      "462\n",
      "506\n",
      "552\n",
      "600\n",
      "650\n"
     ]
    }
   ],
   "source": [
    "my_sum=0\n",
    "for number in range (1,51):\n",
    "    if (my_sum+number)%2==0:\n",
    "        my_sum+=number\n",
    "        print(my_sum)"
   ]
  },
  {
   "cell_type": "code",
   "execution_count": 24,
   "metadata": {},
   "outputs": [
    {
     "name": "stdout",
     "output_type": "stream",
     "text": [
      "Monday\n",
      "12\n",
      "13\n",
      "14\n",
      "15\n",
      "16\n",
      "17\n",
      "Checking next day\n",
      "Wednesday\n",
      "12\n",
      "13\n",
      "14\n",
      "15\n",
      "16\n",
      "17\n",
      "Checking next day\n",
      "[('Monday', 12), ('Monday', 13), ('Monday', 14), ('Monday', 15), ('Monday', 16), ('Monday', 17), ('Wednesday', 12), ('Wednesday', 13), ('Wednesday', 14), ('Wednesday', 15), ('Wednesday', 16), ('Wednesday', 17)]\n"
     ]
    }
   ],
   "source": [
    "days = ('Monday', 'Tuesday', 'Wednesday', 'Thursday', 'Friday', 'Saturday' , 'Sunday') #tuple\n",
    "hours = [10, 11, 12, 13, 14, 15, 16, 17, 18, 19] #list\n",
    "\n",
    "available_days=['Monday','Wednesday']\n",
    "available_hours=[12, 13, 14, 15, 16, 17]\n",
    "\n",
    "combinations=[]\n",
    "for day in days:\n",
    "    if day in available_days:\n",
    "        print(day)\n",
    "        for hour in available_hours:\n",
    "            print(hour)\n",
    "            combination=(day,hour)\n",
    "            combinations.append((day,hour)) #append adds sth to a list\n",
    "        print('Checking next day')\n",
    "\n",
    "print(combinations)"
   ]
  },
  {
   "cell_type": "code",
   "execution_count": 29,
   "metadata": {},
   "outputs": [
    {
     "name": "stdout",
     "output_type": "stream",
     "text": [
      "[48, 8, 5997, 4, 3, 27]\n"
     ]
    }
   ],
   "source": [
    "#list comprehension\n",
    "my_list=[24,4,1999,2,1,9]\n",
    "mult_2=[number*2 if number %2 ==0 else number*3 for number in my_list]\n",
    "print(mult_2)"
   ]
  },
  {
   "cell_type": "code",
   "execution_count": 27,
   "metadata": {},
   "outputs": [
    {
     "name": "stdout",
     "output_type": "stream",
     "text": [
      "[('Monday', 12), ('Monday', 13), ('Monday', 14), ('Monday', 15), ('Monday', 16), ('Monday', 17), ('Wednesday', 12), ('Wednesday', 13), ('Wednesday', 14), ('Wednesday', 15), ('Wednesday', 16), ('Wednesday', 17)]\n"
     ]
    }
   ],
   "source": [
    "days = ('Monday', 'Tuesday', 'Wednesday', 'Thursday', 'Friday', 'Saturday' , 'Sunday') #tuple\n",
    "hours = [10, 11, 12, 13, 14, 15, 16, 17, 18, 19] #list\n",
    "\n",
    "available_days=['Monday','Wednesday']\n",
    "available_hours=[12, 13, 14, 15, 16, 17]\n",
    "\n",
    "combinations=[(day,hour) for day in days for hour in hours if day in available_days and hour in available_hours]\n",
    "print(combinations)"
   ]
  },
  {
   "cell_type": "code",
   "execution_count": 30,
   "metadata": {},
   "outputs": [
    {
     "name": "stdout",
     "output_type": "stream",
     "text": [
      "Run the Jewels\n"
     ]
    }
   ],
   "source": [
    "my_dictionary={\n",
    "    'band': 'Run the Jewels',\n",
    "    'year': 2020,\n",
    "    False:'false',\n",
    "    4:'four',\n",
    "    'tracks':['Nobody Speak','Thieves']\n",
    "} #only one key\n",
    "print(my_dictionary['band'])"
   ]
  },
  {
   "cell_type": "code",
   "execution_count": 31,
   "metadata": {},
   "outputs": [
    {
     "name": "stdout",
     "output_type": "stream",
     "text": [
      "{'band': 'Run the Jewels', 'year': 2020, False: 'false', 4: 'four', 'tracks': 'Holy Calamafuck'}\n"
     ]
    }
   ],
   "source": [
    "#overwriting a key\n",
    "my_dictionary['tracks']='Holy Calamafuck'\n",
    "print(my_dictionary)"
   ]
  },
  {
   "cell_type": "code",
   "execution_count": 32,
   "metadata": {},
   "outputs": [
    {
     "name": "stdout",
     "output_type": "stream",
     "text": [
      "5\n"
     ]
    }
   ],
   "source": [
    "print(len(my_dictionary)) #number of elements"
   ]
  },
  {
   "cell_type": "code",
   "execution_count": 33,
   "metadata": {},
   "outputs": [
    {
     "data": {
      "text/plain": [
       "{'band': 'Run the Jewels',\n",
       " 'year': 2020,\n",
       " False: 'false',\n",
       " 4: 'four',\n",
       " 'tracks': 'Holy Calamafuck'}"
      ]
     },
     "execution_count": 33,
     "metadata": {},
     "output_type": "execute_result"
    }
   ],
   "source": [
    "#delete all pairs: my_dictionary.clear()\n",
    "my_dictionary.copy() #mutable"
   ]
  },
  {
   "cell_type": "code",
   "execution_count": 34,
   "metadata": {},
   "outputs": [
    {
     "name": "stdout",
     "output_type": "stream",
     "text": [
      "{'sum': 0, 'mult_sum': 0, 'div_sum': 0}\n"
     ]
    }
   ],
   "source": [
    "tmp_dict=dict.fromkeys(['sum','mult_sum','div_sum'],0) #assigning 0 to all keys\n",
    "print(tmp_dict)"
   ]
  },
  {
   "cell_type": "code",
   "execution_count": 35,
   "metadata": {},
   "outputs": [
    {
     "name": "stdout",
     "output_type": "stream",
     "text": [
      "Holy Calamafuck\n"
     ]
    }
   ],
   "source": [
    "print(my_dictionary.get('tracks'))"
   ]
  },
  {
   "cell_type": "code",
   "execution_count": 38,
   "metadata": {},
   "outputs": [
    {
     "name": "stdout",
     "output_type": "stream",
     "text": [
      "Not found\n"
     ]
    }
   ],
   "source": [
    "print(my_dictionary.get('members', 'Not found')) #use .get to find sth, if not found will give you back None or 2nd value"
   ]
  },
  {
   "cell_type": "code",
   "execution_count": 39,
   "metadata": {},
   "outputs": [
    {
     "name": "stdout",
     "output_type": "stream",
     "text": [
      "false\n"
     ]
    }
   ],
   "source": [
    "print(my_dictionary.pop(False)) #.pop used to delete values"
   ]
  },
  {
   "cell_type": "code",
   "execution_count": 40,
   "metadata": {},
   "outputs": [
    {
     "data": {
      "text/plain": [
       "('tracks', 'Holy Calamafuck')"
      ]
     },
     "execution_count": 40,
     "metadata": {},
     "output_type": "execute_result"
    }
   ],
   "source": [
    "my_dictionary.popitem() #gives back a pair tuple"
   ]
  },
  {
   "cell_type": "code",
   "execution_count": 41,
   "metadata": {},
   "outputs": [
    {
     "data": {
      "text/plain": [
       "'Killer Mike & El-P'"
      ]
     },
     "execution_count": 41,
     "metadata": {},
     "output_type": "execute_result"
    }
   ],
   "source": [
    "my_dictionary.setdefault('Members', 'Killer Mike & El-P') #adds new pair"
   ]
  },
  {
   "cell_type": "code",
   "execution_count": 42,
   "metadata": {},
   "outputs": [
    {
     "name": "stdout",
     "output_type": "stream",
     "text": [
      "{'band': 'Run the Jewels', 'year': 2020, 4: 'four', 'Members': 'Killer Mike & El-P'}\n"
     ]
    }
   ],
   "source": [
    "print(my_dictionary)"
   ]
  },
  {
   "cell_type": "code",
   "execution_count": 43,
   "metadata": {},
   "outputs": [
    {
     "name": "stdout",
     "output_type": "stream",
     "text": [
      "{'band': 'Run the Jewels', 'year': 2020, 4: 'four', 'Members': 'Killer Mike & El-P', 'DJ': 'Trackstar', 'sum': 42, 'track': 'Oh la la'}\n"
     ]
    }
   ],
   "source": [
    "new_dict={\n",
    "    'DJ': 'Trackstar',\n",
    "    'sum':42,\n",
    "    'track': 'Oh la la'\n",
    "}\n",
    "my_dictionary.update(new_dict)\n",
    "print(my_dictionary)"
   ]
  },
  {
   "cell_type": "code",
   "execution_count": 44,
   "metadata": {},
   "outputs": [
    {
     "name": "stdout",
     "output_type": "stream",
     "text": [
      "key band has a value of Run the Jewels\n",
      "key year has a value of 2020\n",
      "key 4 has a value of four\n",
      "key Members has a value of Killer Mike & El-P\n",
      "key DJ has a value of Trackstar\n",
      "key sum has a value of 42\n",
      "key track has a value of Oh la la\n"
     ]
    }
   ],
   "source": [
    "for key, value in my_dictionary.items():\n",
    "    print(f'key {key} has a value of {value}')"
   ]
  }
 ],
 "metadata": {
  "interpreter": {
   "hash": "126b06dd3950ee075bbec4f5a8d9da3a7c7c385767bffed3b81c8ab9743c826b"
  },
  "kernelspec": {
   "display_name": "Python 3.9.7 64-bit",
   "language": "python",
   "name": "python3"
  },
  "language_info": {
   "codemirror_mode": {
    "name": "ipython",
    "version": 3
   },
   "file_extension": ".py",
   "mimetype": "text/x-python",
   "name": "python",
   "nbconvert_exporter": "python",
   "pygments_lexer": "ipython3",
   "version": "3.9.7"
  },
  "orig_nbformat": 4
 },
 "nbformat": 4,
 "nbformat_minor": 2
}
