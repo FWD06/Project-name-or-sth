{
 "cells": [
  {
   "cell_type": "code",
   "execution_count": 1,
   "metadata": {},
   "outputs": [
    {
     "name": "stdout",
     "output_type": "stream",
     "text": [
      "Number 2 is: Fizz\n",
      "Number 3 is: Buzz\n",
      "Number 4 is: Fizz\n",
      "Number 6 is: FizzBuzz\n",
      "Number 8 is: Fizz\n",
      "Number 9 is: Buzz\n",
      "Number 10 is: Fizz\n",
      "Number 12 is: FizzBuzz\n",
      "Number 14 is: Fizz\n",
      "Number 15 is: Buzz\n",
      "Number 16 is: Fizz\n",
      "Number 18 is: FizzBuzz\n",
      "Number 20 is: Fizz\n",
      "Number 21 is: Buzz\n",
      "Number 22 is: Fizz\n",
      "Number 24 is: FizzBuzz\n",
      "Number 26 is: Fizz\n",
      "Number 27 is: Buzz\n",
      "Number 28 is: Fizz\n",
      "Number 30 is: FizzBuzz\n",
      "Number 32 is: Fizz\n",
      "Number 33 is: Buzz\n",
      "Number 34 is: Fizz\n",
      "Number 36 is: FizzBuzz\n",
      "Number 38 is: Fizz\n",
      "Number 39 is: Buzz\n",
      "Number 40 is: Fizz\n",
      "Number 42 is: FizzBuzz\n",
      "Number 44 is: Fizz\n",
      "Number 45 is: Buzz\n",
      "Number 46 is: Fizz\n",
      "Number 48 is: FizzBuzz\n",
      "Number 50 is: Fizz\n",
      "Number 51 is: Buzz\n",
      "Number 52 is: Fizz\n",
      "Number 54 is: FizzBuzz\n",
      "Number 56 is: Fizz\n",
      "Number 57 is: Buzz\n",
      "Number 58 is: Fizz\n",
      "Number 60 is: FizzBuzz\n",
      "Number 62 is: Fizz\n",
      "Number 63 is: Buzz\n",
      "Number 64 is: Fizz\n",
      "Number 66 is: FizzBuzz\n",
      "Number 68 is: Fizz\n",
      "Number 69 is: Buzz\n",
      "Number 70 is: Fizz\n",
      "Number 72 is: FizzBuzz\n",
      "Number 74 is: Fizz\n",
      "Number 75 is: Buzz\n",
      "Number 76 is: Fizz\n",
      "Number 78 is: FizzBuzz\n",
      "Number 80 is: Fizz\n",
      "Number 81 is: Buzz\n",
      "Number 82 is: Fizz\n",
      "Number 84 is: FizzBuzz\n",
      "Number 86 is: Fizz\n",
      "Number 87 is: Buzz\n",
      "Number 88 is: Fizz\n",
      "Number 90 is: FizzBuzz\n",
      "Number 92 is: Fizz\n",
      "Number 93 is: Buzz\n",
      "Number 94 is: Fizz\n",
      "Number 96 is: FizzBuzz\n",
      "Number 98 is: Fizz\n",
      "Number 99 is: Buzz\n",
      "Number 100 is: Fizz\n"
     ]
    }
   ],
   "source": [
    "#homework\n",
    "for number in range(1,101):\n",
    "    if number % 2 == 0 and number % 3 == 0:\n",
    "        print(f\"Number {number} is: FizzBuzz\")\n",
    "    elif number % 2 == 0:\n",
    "        print(f\"Number {number} is: Fizz\")\n",
    "    elif number % 3 == 0:\n",
    "        print(f\"Number {number} is: Buzz\")"
   ]
  },
  {
   "cell_type": "code",
   "execution_count": 2,
   "metadata": {},
   "outputs": [
    {
     "name": "stdout",
     "output_type": "stream",
     "text": [
      "Number 1 is: \n",
      "Number 2 is: Fizz\n",
      "Number 3 is: Buzz\n",
      "Number 4 is: Fizz\n",
      "Number 5 is: \n",
      "Number 6 is: FizzBuzz\n",
      "Number 7 is: \n",
      "Number 8 is: Fizz\n",
      "Number 9 is: Buzz\n",
      "Number 10 is: Fizz\n",
      "Number 11 is: \n",
      "Number 12 is: FizzBuzz\n",
      "Number 13 is: \n",
      "Number 14 is: Fizz\n",
      "Number 15 is: Buzz\n",
      "Number 16 is: Fizz\n",
      "Number 17 is: \n",
      "Number 18 is: FizzBuzz\n",
      "Number 19 is: \n",
      "Number 20 is: Fizz\n",
      "Number 21 is: Buzz\n",
      "Number 22 is: Fizz\n",
      "Number 23 is: \n",
      "Number 24 is: FizzBuzz\n",
      "Number 25 is: \n",
      "Number 26 is: Fizz\n",
      "Number 27 is: Buzz\n",
      "Number 28 is: Fizz\n",
      "Number 29 is: \n",
      "Number 30 is: FizzBuzz\n",
      "Number 31 is: \n",
      "Number 32 is: Fizz\n",
      "Number 33 is: Buzz\n",
      "Number 34 is: Fizz\n",
      "Number 35 is: \n",
      "Number 36 is: FizzBuzz\n",
      "Number 37 is: \n",
      "Number 38 is: Fizz\n",
      "Number 39 is: Buzz\n",
      "Number 40 is: Fizz\n",
      "Number 41 is: \n",
      "Number 42 is: FizzBuzz\n",
      "Number 43 is: \n",
      "Number 44 is: Fizz\n",
      "Number 45 is: Buzz\n",
      "Number 46 is: Fizz\n",
      "Number 47 is: \n",
      "Number 48 is: FizzBuzz\n",
      "Number 49 is: \n",
      "Number 50 is: Fizz\n",
      "Number 51 is: Buzz\n",
      "Number 52 is: Fizz\n",
      "Number 53 is: \n",
      "Number 54 is: FizzBuzz\n",
      "Number 55 is: \n",
      "Number 56 is: Fizz\n",
      "Number 57 is: Buzz\n",
      "Number 58 is: Fizz\n",
      "Number 59 is: \n",
      "Number 60 is: FizzBuzz\n",
      "Number 61 is: \n",
      "Number 62 is: Fizz\n",
      "Number 63 is: Buzz\n",
      "Number 64 is: Fizz\n",
      "Number 65 is: \n",
      "Number 66 is: FizzBuzz\n",
      "Number 67 is: \n",
      "Number 68 is: Fizz\n",
      "Number 69 is: Buzz\n",
      "Number 70 is: Fizz\n",
      "Number 71 is: \n",
      "Number 72 is: FizzBuzz\n",
      "Number 73 is: \n",
      "Number 74 is: Fizz\n",
      "Number 75 is: Buzz\n",
      "Number 76 is: Fizz\n",
      "Number 77 is: \n",
      "Number 78 is: FizzBuzz\n",
      "Number 79 is: \n",
      "Number 80 is: Fizz\n",
      "Number 81 is: Buzz\n",
      "Number 82 is: Fizz\n",
      "Number 83 is: \n",
      "Number 84 is: FizzBuzz\n",
      "Number 85 is: \n",
      "Number 86 is: Fizz\n",
      "Number 87 is: Buzz\n",
      "Number 88 is: Fizz\n",
      "Number 89 is: \n",
      "Number 90 is: FizzBuzz\n",
      "Number 91 is: \n",
      "Number 92 is: Fizz\n",
      "Number 93 is: Buzz\n",
      "Number 94 is: Fizz\n",
      "Number 95 is: \n",
      "Number 96 is: FizzBuzz\n",
      "Number 97 is: \n",
      "Number 98 is: Fizz\n",
      "Number 99 is: Buzz\n",
      "Number 100 is: Fizz\n"
     ]
    }
   ],
   "source": [
    "for number in range(1,101):\n",
    "    print_string = ''\n",
    "    if number % 2 == 0:\n",
    "        print_string += 'Fizz'\n",
    "    if number % 3 == 0:\n",
    "        print_string += 'Buzz'\n",
    "    print (f\"Number {number} is: {print_string}\")\n"
   ]
  },
  {
   "cell_type": "code",
   "execution_count": 3,
   "metadata": {},
   "outputs": [
    {
     "name": "stdout",
     "output_type": "stream",
     "text": [
      "This number has a remainder when divided by 5: 1\n",
      "This number has a remainder when divided by 5: 2\n",
      "This number has a remainder when divided by 5: 3\n",
      "This number has a remainder when divided by 5: 4\n",
      "This number has a remainder when divided by 5: 6\n",
      "This number has a remainder when divided by 5: 7\n",
      "This number has a remainder when divided by 5: 8\n",
      "This number has a remainder when divided by 5: 9\n",
      "This number has a remainder when divided by 5: 11\n",
      "This number has a remainder when divided by 5: 12\n",
      "This number has a remainder when divided by 5: 13\n",
      "This number has a remainder when divided by 5: 14\n",
      "This number has a remainder when divided by 5: 16\n",
      "This number has a remainder when divided by 5: 17\n",
      "This number has a remainder when divided by 5: 18\n",
      "This number has a remainder when divided by 5: 19\n",
      "This number has a remainder when divided by 5: 21\n",
      "This number has a remainder when divided by 5: 22\n",
      "This number has a remainder when divided by 5: 23\n"
     ]
    }
   ],
   "source": [
    "user_number=int(input(\"Please enter a digit\"))\n",
    "if user_number >= 10:\n",
    "    for number in range(1,user_number):\n",
    "        if number % 5 != 0:\n",
    "            print(f'This number has a remainder when divided by 5: {number}')\n",
    "else:\n",
    "    print('number is lower than 10')"
   ]
  },
  {
   "cell_type": "code",
   "execution_count": 4,
   "metadata": {},
   "outputs": [
    {
     "name": "stdout",
     "output_type": "stream",
     "text": [
      "[('1', 'hi', '100'), ('1', 'hi', '200'), ('1', 'hi', 40), ('1', 'hi', 10), ('1', 'evening', '100'), ('1', 'evening', '200'), ('1', 'evening', 40), ('1', 'evening', 10), ('1', 'what a beautiful day', '100'), ('1', 'what a beautiful day', '200'), ('1', 'what a beautiful day', 40), ('1', 'what a beautiful day', 10), ('1', 'weather', '100'), ('1', 'weather', '200'), ('1', 'weather', 40), ('1', 'weather', 10), ('1', '10 degrees outside', '100'), ('1', '10 degrees outside', '200'), ('1', '10 degrees outside', 40), ('1', '10 degrees outside', 10), ('2', 'hi', '100'), ('2', 'hi', '200'), ('2', 'hi', 40), ('2', 'hi', 10), ('2', 'evening', '100'), ('2', 'evening', '200'), ('2', 'evening', 40), ('2', 'evening', 10), ('2', 'what a beautiful day', '100'), ('2', 'what a beautiful day', '200'), ('2', 'what a beautiful day', 40), ('2', 'what a beautiful day', 10), ('2', 'weather', '100'), ('2', 'weather', '200'), ('2', 'weather', 40), ('2', 'weather', 10), ('2', '10 degrees outside', '100'), ('2', '10 degrees outside', '200'), ('2', '10 degrees outside', 40), ('2', '10 degrees outside', 10), ('3', 'hi', '100'), ('3', 'hi', '200'), ('3', 'hi', 40), ('3', 'hi', 10), ('3', 'evening', '100'), ('3', 'evening', '200'), ('3', 'evening', 40), ('3', 'evening', 10), ('3', 'what a beautiful day', '100'), ('3', 'what a beautiful day', '200'), ('3', 'what a beautiful day', 40), ('3', 'what a beautiful day', 10), ('3', 'weather', '100'), ('3', 'weather', '200'), ('3', 'weather', 40), ('3', 'weather', 10), ('3', '10 degrees outside', '100'), ('3', '10 degrees outside', '200'), ('3', '10 degrees outside', 40), ('3', '10 degrees outside', 10), ('4', 'hi', '100'), ('4', 'hi', '200'), ('4', 'hi', 40), ('4', 'hi', 10), ('4', 'evening', '100'), ('4', 'evening', '200'), ('4', 'evening', 40), ('4', 'evening', 10), ('4', 'what a beautiful day', '100'), ('4', 'what a beautiful day', '200'), ('4', 'what a beautiful day', 40), ('4', 'what a beautiful day', 10), ('4', 'weather', '100'), ('4', 'weather', '200'), ('4', 'weather', 40), ('4', 'weather', 10), ('4', '10 degrees outside', '100'), ('4', '10 degrees outside', '200'), ('4', '10 degrees outside', 40), ('4', '10 degrees outside', 10), ('5', 'hi', '100'), ('5', 'hi', '200'), ('5', 'hi', 40), ('5', 'hi', 10), ('5', 'evening', '100'), ('5', 'evening', '200'), ('5', 'evening', 40), ('5', 'evening', 10), ('5', 'what a beautiful day', '100'), ('5', 'what a beautiful day', '200'), ('5', 'what a beautiful day', 40), ('5', 'what a beautiful day', 10), ('5', 'weather', '100'), ('5', 'weather', '200'), ('5', 'weather', 40), ('5', 'weather', 10), ('5', '10 degrees outside', '100'), ('5', '10 degrees outside', '200'), ('5', '10 degrees outside', 40), ('5', '10 degrees outside', 10)]\n"
     ]
    }
   ],
   "source": [
    "a=['1','2','3','4','5']\n",
    "b=['hi','evening','what a beautiful day','weather','10 degrees outside']\n",
    "c=['100','200',40,10]\n",
    "combinations=[]\n",
    "for value_1 in a:\n",
    "    for value_2 in b:\n",
    "        for value_3 in c:\n",
    "            combinations.append((value_1,value_2,value_3))\n",
    "\n",
    "print(combinations)"
   ]
  },
  {
   "cell_type": "code",
   "execution_count": 6,
   "metadata": {},
   "outputs": [
    {
     "name": "stdout",
     "output_type": "stream",
     "text": [
      "[('1', 'hi', 100), ('1', 'hi', 200), ('1', 'hi', 40), ('1', 'hi', 10), ('1', 'evening', 100), ('1', 'evening', 200), ('1', 'evening', 40), ('1', 'evening', 10), ('1', 'what a beautiful day', 100), ('1', 'what a beautiful day', 200), ('1', 'what a beautiful day', 40), ('1', 'what a beautiful day', 10), ('1', 'weather', 100), ('1', 'weather', 200), ('1', 'weather', 40), ('1', 'weather', 10), ('1', '10 degrees outside', 100), ('1', '10 degrees outside', 200), ('1', '10 degrees outside', 40), ('1', '10 degrees outside', 10), ('2', 'hi', 100), ('2', 'hi', 200), ('2', 'hi', 40), ('2', 'hi', 10), ('2', 'evening', 100), ('2', 'evening', 200), ('2', 'evening', 40), ('2', 'evening', 10), ('2', 'what a beautiful day', 100), ('2', 'what a beautiful day', 200), ('2', 'what a beautiful day', 40), ('2', 'what a beautiful day', 10), ('2', 'weather', 100), ('2', 'weather', 200), ('2', 'weather', 40), ('2', 'weather', 10), ('2', '10 degrees outside', 100), ('2', '10 degrees outside', 200), ('2', '10 degrees outside', 40), ('2', '10 degrees outside', 10), ('3', 'hi', 100), ('3', 'hi', 200), ('3', 'hi', 40), ('3', 'hi', 10), ('3', 'evening', 100), ('3', 'evening', 200), ('3', 'evening', 40), ('3', 'evening', 10), ('3', 'what a beautiful day', 100), ('3', 'what a beautiful day', 200), ('3', 'what a beautiful day', 40), ('3', 'what a beautiful day', 10), ('3', 'weather', 100), ('3', 'weather', 200), ('3', 'weather', 40), ('3', 'weather', 10), ('3', '10 degrees outside', 100), ('3', '10 degrees outside', 200), ('3', '10 degrees outside', 40), ('3', '10 degrees outside', 10), ('4', 'hi', 100), ('4', 'hi', 200), ('4', 'hi', 40), ('4', 'hi', 10), ('4', 'evening', 100), ('4', 'evening', 200), ('4', 'evening', 40), ('4', 'evening', 10), ('4', 'what a beautiful day', 100), ('4', 'what a beautiful day', 200), ('4', 'what a beautiful day', 40), ('4', 'what a beautiful day', 10), ('4', 'weather', 100), ('4', 'weather', 200), ('4', 'weather', 40), ('4', 'weather', 10), ('4', '10 degrees outside', 100), ('4', '10 degrees outside', 200), ('4', '10 degrees outside', 40), ('4', '10 degrees outside', 10), ('5', 'hi', 100), ('5', 'hi', 200), ('5', 'hi', 40), ('5', 'hi', 10), ('5', 'evening', 100), ('5', 'evening', 200), ('5', 'evening', 40), ('5', 'evening', 10), ('5', 'what a beautiful day', 100), ('5', 'what a beautiful day', 200), ('5', 'what a beautiful day', 40), ('5', 'what a beautiful day', 10), ('5', 'weather', 100), ('5', 'weather', 200), ('5', 'weather', 40), ('5', 'weather', 10), ('5', '10 degrees outside', 100), ('5', '10 degrees outside', 200), ('5', '10 degrees outside', 40), ('5', '10 degrees outside', 10)]\n",
      "\n",
      "[('1', 'what a beautiful day', 100), ('1', 'what a beautiful day', 200), ('1', 'what a beautiful day', 40), ('1', 'what a beautiful day', 10), ('2', 'what a beautiful day', 100), ('2', 'what a beautiful day', 200), ('2', 'what a beautiful day', 40), ('2', 'what a beautiful day', 10), ('3', 'what a beautiful day', 100), ('3', 'what a beautiful day', 200), ('3', 'what a beautiful day', 40), ('3', 'what a beautiful day', 10), ('4', 'what a beautiful day', 100), ('4', 'what a beautiful day', 200), ('4', 'what a beautiful day', 40), ('4', 'what a beautiful day', 10), ('5', 'what a beautiful day', 100), ('5', 'what a beautiful day', 200), ('5', 'what a beautiful day', 40), ('5', 'what a beautiful day', 10), ('1', '10 degrees outside', 100), ('1', '10 degrees outside', 200), ('1', '10 degrees outside', 40), ('1', '10 degrees outside', 10), ('2', '10 degrees outside', 100), ('2', '10 degrees outside', 200), ('2', '10 degrees outside', 40), ('2', '10 degrees outside', 10), ('3', '10 degrees outside', 100), ('3', '10 degrees outside', 200), ('3', '10 degrees outside', 40), ('3', '10 degrees outside', 10), ('4', '10 degrees outside', 100), ('4', '10 degrees outside', 200), ('4', '10 degrees outside', 40), ('4', '10 degrees outside', 10), ('5', '10 degrees outside', 100), ('5', '10 degrees outside', 200), ('5', '10 degrees outside', 40), ('5', '10 degrees outside', 10), ('1', 'evening', 100), ('1', 'evening', 200), ('1', 'evening', 40), ('1', 'evening', 10), ('1', 'weather', 100), ('1', 'weather', 200), ('1', 'weather', 40), ('1', 'weather', 10), ('2', 'evening', 100), ('2', 'evening', 200), ('2', 'evening', 40), ('2', 'evening', 10), ('2', 'weather', 100), ('2', 'weather', 200), ('2', 'weather', 40), ('2', 'weather', 10), ('3', 'evening', 100), ('3', 'evening', 200), ('3', 'evening', 40), ('3', 'evening', 10), ('3', 'weather', 100), ('3', 'weather', 200), ('3', 'weather', 40), ('3', 'weather', 10), ('4', 'evening', 100), ('4', 'evening', 200), ('4', 'evening', 40), ('4', 'evening', 10), ('4', 'weather', 100), ('4', 'weather', 200), ('4', 'weather', 40), ('4', 'weather', 10), ('5', 'evening', 100), ('5', 'evening', 200), ('5', 'evening', 40), ('5', 'evening', 10), ('5', 'weather', 100), ('5', 'weather', 200), ('5', 'weather', 40), ('5', 'weather', 10), ('1', 'hi', 100), ('1', 'hi', 200), ('1', 'hi', 40), ('1', 'hi', 10), ('2', 'hi', 100), ('2', 'hi', 200), ('2', 'hi', 40), ('2', 'hi', 10), ('3', 'hi', 100), ('3', 'hi', 200), ('3', 'hi', 40), ('3', 'hi', 10), ('4', 'hi', 100), ('4', 'hi', 200), ('4', 'hi', 40), ('4', 'hi', 10), ('5', 'hi', 100), ('5', 'hi', 200), ('5', 'hi', 40), ('5', 'hi', 10)]\n"
     ]
    }
   ],
   "source": [
    "a = ['1','2','3','4','5']\n",
    "b = ['hi', 'evening', 'what a beautiful day', 'weather', '10 degrees outside']\n",
    "c = ['100', '200', 40, 10]\n",
    "\n",
    "combinations = []\n",
    "for value_1 in a:\n",
    "    for value_2 in b:\n",
    "        for value_3 in c:\n",
    "            combinations.append( (value_1, value_2, int(value_3) ) )\n",
    "        # print(value_2 )\n",
    "    # print(value_1 )\n",
    "\n",
    "print( combinations)\n",
    "# combinations.sort( key=lambda x: x[2] )\n",
    "combinations.sort( key=lambda x: len(x[1]), reverse=True )\n",
    "print ()\n",
    "print( combinations)\n"
   ]
  },
  {
   "cell_type": "code",
   "execution_count": 10,
   "metadata": {},
   "outputs": [
    {
     "name": "stdout",
     "output_type": "stream",
     "text": [
      "long words: ['Informationen']\n",
      "polidromes: []\n",
      "shortest word:Wer, longest word is:Informationen\n",
      "shortest words: ['Wer', 'aus', 'der', 'nur', 'mit']\n"
     ]
    }
   ],
   "source": [
    "words=['Wer','Informationen','aus','der','Hölle','will','kann','nicht','nur','mit']\n",
    "long_words=[]\n",
    "polidromes=[]\n",
    "\n",
    "for word in words:\n",
    "    if len(word)>10:\n",
    "        long_words.append(word)\n",
    "    if word.lower() == word.lower()[::-1]:\n",
    "        polidromes.append(word)\n",
    "\n",
    "print (f'long words: {long_words}')\n",
    "print (f'polidromes: {polidromes}')\n",
    "\n",
    "max(words,key=len)\n",
    "min(words,key=len)\n",
    "print(f'shortest word:{min(words,key=len)}, longest word is:{max(words,key=len)}')\n",
    "\n",
    "shortest_word = len (min(words, key=len) )\n",
    "shortest_words = []\n",
    "for word in words:\n",
    "    if len(word) == shortest_word:\n",
    "        shortest_words.append(word)\n",
    "print (f'shortest words: {shortest_words}')\n",
    "\n"
   ]
  },
  {
   "cell_type": "code",
   "execution_count": 12,
   "metadata": {},
   "outputs": [
    {
     "name": "stdout",
     "output_type": "stream",
     "text": [
      "0\n",
      "1\n",
      "2\n",
      "3\n",
      "4\n",
      "5\n",
      "largest product is 322720\n"
     ]
    }
   ],
   "source": [
    "my_list=[2018,27,2017,160,2003,100,3.3]\n",
    "max_prod=None\n",
    "for idx in range(len(my_list)-1):\n",
    "    print(idx)\n",
    "    my_list[idx]*my_list[idx+1]\n",
    "    if max_prod is None or my_list[idx] * my_list[idx+1] > max_prod:\n",
    "        max_prod=my_list[idx] * my_list[idx+1]\n",
    "print(f'largest product is {max_prod}')"
   ]
  },
  {
   "cell_type": "code",
   "execution_count": 17,
   "metadata": {},
   "outputs": [
    {
     "name": "stdout",
     "output_type": "stream",
     "text": [
      "left:2018, right: 27\n",
      "left:27, right: 2017\n",
      "left:2017, right: 160\n",
      "left:160, right: 2003\n",
      "left:2003, right: 100\n",
      "left:100, right: 3.3\n",
      "largest product is 322720\n"
     ]
    }
   ],
   "source": [
    "max_prod=None\n",
    "\n",
    "#for number_l, number_r in zip([1,2,3],[10,11,12]):\n",
    "    #print(f'left:{number_l}, right: {number_r}')\n",
    "\n",
    "for number_l, number_r in zip(my_list[:-1],my_list[1:]):\n",
    "    print(f'left:{number_l}, right: {number_r}')\n",
    "    if max_prod is None or number_l * number_r > max_prod:\n",
    "        max_prod=number_l * number_r\n",
    "print(f'largest product is {max_prod}')\n"
   ]
  },
  {
   "cell_type": "code",
   "execution_count": 18,
   "metadata": {},
   "outputs": [
    {
     "name": "stdout",
     "output_type": "stream",
     "text": [
      "duplicate values are: {8, 9, 3, 15}\n"
     ]
    }
   ],
   "source": [
    "a=[1,2,3,4,5,6,7,8,9,15]\n",
    "b=[3,8,9,11,15]\n",
    "set_a=set(a)\n",
    "set_b=set(b)\n",
    "print (f'duplicate values are: {set_a.intersection(set_b)}')"
   ]
  },
  {
   "cell_type": "code",
   "execution_count": 19,
   "metadata": {},
   "outputs": [
    {
     "name": "stdout",
     "output_type": "stream",
     "text": [
      "positive numbers: [800, 1, 2, 900, 5, 8, 10, 12, 14]\n"
     ]
    }
   ],
   "source": [
    "x = [1, 5, 1, 2, 8, -9, 10, 1, -8, -900, 14, 5, -8, 2, 1, -20, 900, 800, -6, -8, 12, 1]\n",
    "set_x=set(x)\n",
    "positive_numbers = []\n",
    "for number in set_x:\n",
    "    if number > 0:\n",
    "        positive_numbers.append(number)\n",
    "print(f'positive numbers: {positive_numbers}')\n",
    "\n"
   ]
  },
  {
   "cell_type": "code",
   "execution_count": 20,
   "metadata": {},
   "outputs": [
    {
     "name": "stdout",
     "output_type": "stream",
     "text": [
      "14796.0\n"
     ]
    }
   ],
   "source": [
    "x = {\n",
    "    \"cost_price\": 32.67,\n",
    "    \"sell_price\":45.00,\n",
    "    \"inventory\": 1200}\n",
    "list_10=list(x.values())\n",
    "r=(list_10[1]*list_10[2]) - (list_10[0]*list_10[2])\n",
    "print(round(r,2))"
   ]
  },
  {
   "cell_type": "code",
   "execution_count": 23,
   "metadata": {},
   "outputs": [],
   "source": [
    "#functions\n",
    "def hello():\n",
    "    print('this function says hello')\n",
    "    print('Hello World!') #needs to be called to be executed"
   ]
  },
  {
   "cell_type": "code",
   "execution_count": 24,
   "metadata": {},
   "outputs": [
    {
     "name": "stdout",
     "output_type": "stream",
     "text": [
      "this function says hello\n",
      "Hello World!\n"
     ]
    }
   ],
   "source": [
    "hello()"
   ]
  },
  {
   "cell_type": "code",
   "execution_count": 27,
   "metadata": {},
   "outputs": [],
   "source": [
    "def hello_2(name):\n",
    "    print(f'Hello {name}')"
   ]
  },
  {
   "cell_type": "code",
   "execution_count": 28,
   "metadata": {},
   "outputs": [
    {
     "name": "stdout",
     "output_type": "stream",
     "text": [
      "Hello Friedrich\n",
      "Hello void\n"
     ]
    }
   ],
   "source": [
    "hello_2('Friedrich')\n",
    "hello_2('void')"
   ]
  },
  {
   "cell_type": "code",
   "execution_count": 29,
   "metadata": {},
   "outputs": [],
   "source": [
    "def hello_3(name, city='Vilnius'): #default arguments need to be at the end\n",
    "    print(f'Hello {name} from {city}')"
   ]
  },
  {
   "cell_type": "code",
   "execution_count": 30,
   "metadata": {},
   "outputs": [
    {
     "name": "stdout",
     "output_type": "stream",
     "text": [
      "Hello Darius from Vilnius\n",
      "Hello Friedrich from Tripkau\n"
     ]
    }
   ],
   "source": [
    "hello_3('Darius')\n",
    "hello_3('Friedrich','Tripkau')"
   ]
  },
  {
   "cell_type": "code",
   "execution_count": 33,
   "metadata": {},
   "outputs": [],
   "source": [
    "def add_2(x,y):\n",
    "    x+y\n",
    "    print(x+y)\n",
    "    return x+y\n",
    "    print('This will not be printed')"
   ]
  },
  {
   "cell_type": "code",
   "execution_count": 34,
   "metadata": {},
   "outputs": [
    {
     "name": "stdout",
     "output_type": "stream",
     "text": [
      "9\n",
      "9\n"
     ]
    }
   ],
   "source": [
    "result = add_2(5,4)\n",
    "print(result)"
   ]
  },
  {
   "cell_type": "code",
   "execution_count": 36,
   "metadata": {},
   "outputs": [],
   "source": [
    "def my_function(x,y):\n",
    "    if (x+y) % 2 == 0:\n",
    "        return x*y\n",
    "    else:\n",
    "        return x/y"
   ]
  },
  {
   "cell_type": "code",
   "execution_count": 37,
   "metadata": {},
   "outputs": [
    {
     "name": "stdout",
     "output_type": "stream",
     "text": [
      "96\n",
      "83.29166666666667\n"
     ]
    }
   ],
   "source": [
    "print(my_function(24,4))\n",
    "print(my_function(1999,24))"
   ]
  },
  {
   "cell_type": "code",
   "execution_count": 38,
   "metadata": {},
   "outputs": [],
   "source": [
    "def my_function_variable(string_1):\n",
    "    print(string_1)"
   ]
  },
  {
   "cell_type": "code",
   "execution_count": 40,
   "metadata": {},
   "outputs": [
    {
     "name": "stdout",
     "output_type": "stream",
     "text": [
      "original function\n",
      "Printing through new function variable\n"
     ]
    }
   ],
   "source": [
    "my_function_variable('original function')\n",
    "function_variable=my_function_variable\n",
    "function_variable('Printing through new function variable')"
   ]
  }
 ],
 "metadata": {
  "interpreter": {
   "hash": "126b06dd3950ee075bbec4f5a8d9da3a7c7c385767bffed3b81c8ab9743c826b"
  },
  "kernelspec": {
   "display_name": "Python 3.9.7 64-bit",
   "language": "python",
   "name": "python3"
  },
  "language_info": {
   "codemirror_mode": {
    "name": "ipython",
    "version": 3
   },
   "file_extension": ".py",
   "mimetype": "text/x-python",
   "name": "python",
   "nbconvert_exporter": "python",
   "pygments_lexer": "ipython3",
   "version": "3.9.7"
  },
  "orig_nbformat": 4
 },
 "nbformat": 4,
 "nbformat_minor": 2
}
