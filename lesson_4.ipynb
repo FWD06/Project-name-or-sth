{
 "cells": [
  {
   "cell_type": "code",
   "execution_count": 3,
   "metadata": {},
   "outputs": [
    {
     "name": "stdout",
     "output_type": "stream",
     "text": [
      "[24, 4, ['F', 'W', 'D'], 1999]\n",
      "[24, 1, ['F', 'W', 'D'], 1999]\n"
     ]
    }
   ],
   "source": [
    "my_list1=[24,4,['F','W','D'],1999]\n",
    "print(my_list1)\n",
    "my_list1[1]=1\n",
    "print(my_list1)"
   ]
  },
  {
   "cell_type": "code",
   "execution_count": 4,
   "metadata": {},
   "outputs": [
    {
     "name": "stdout",
     "output_type": "stream",
     "text": [
      "[24, 1, ['Q', 'W', 'D'], 1999]\n"
     ]
    }
   ],
   "source": [
    "my_list1[2][0]='Q'\n",
    "print(my_list1)"
   ]
  },
  {
   "cell_type": "code",
   "execution_count": 5,
   "metadata": {},
   "outputs": [
    {
     "name": "stdout",
     "output_type": "stream",
     "text": [
      "[24, 4, 1999, 1, 'F', [2, 3, 4]]\n"
     ]
    }
   ],
   "source": [
    "my_list2=[24,4,1999]\n",
    "my_list2.append(1) #use append to add sth at the end of the list\n",
    "my_list2.append('F')\n",
    "my_list2.append([2,3,4])\n",
    "print(my_list2)"
   ]
  },
  {
   "cell_type": "code",
   "execution_count": 6,
   "metadata": {},
   "outputs": [
    {
     "name": "stdout",
     "output_type": "stream",
     "text": [
      "[24, 4, 1999, 1, 'F', [2, 3, 4], 'q', 'w', 'e', 123, 4, 5, 6]\n"
     ]
    }
   ],
   "source": [
    "my_list2.extend('qwe')\n",
    "my_list2.extend([123])\n",
    "my_list2.extend([4,5,6])\n",
    "print(my_list2)"
   ]
  },
  {
   "cell_type": "code",
   "execution_count": 7,
   "metadata": {},
   "outputs": [
    {
     "name": "stdout",
     "output_type": "stream",
     "text": [
      "6\n",
      "[24, 4, 1999, 1, 'F', [2, 3, 4], 'q', 'w', 'e', 123, 4, 5]\n"
     ]
    }
   ],
   "source": [
    "poped_value=my_list2.pop() #pop takes a value out of the list\n",
    "print(poped_value)\n",
    "print(my_list2)"
   ]
  },
  {
   "cell_type": "code",
   "execution_count": 8,
   "metadata": {},
   "outputs": [
    {
     "name": "stdout",
     "output_type": "stream",
     "text": [
      "24\n",
      "[4, 1999, 1, 'F', [2, 3, 4], 'q', 'w', 'e', 123, 4, 5]\n"
     ]
    }
   ],
   "source": [
    "poped_value=my_list2.pop(0)\n",
    "print(poped_value)\n",
    "print(my_list2)"
   ]
  },
  {
   "cell_type": "code",
   "execution_count": 9,
   "metadata": {},
   "outputs": [
    {
     "name": "stdout",
     "output_type": "stream",
     "text": [
      "[4, 1999, 'R', 1, 'F', [2, 3, 4], 'q', 'w', 'e', 123, 4, 5]\n"
     ]
    }
   ],
   "source": [
    "my_list2.insert(2,'R') #add an element at a specified place\n",
    "print(my_list2)"
   ]
  },
  {
   "cell_type": "code",
   "execution_count": 10,
   "metadata": {},
   "outputs": [
    {
     "name": "stdout",
     "output_type": "stream",
     "text": [
      "[1999, 'R', 1, 'F', [2, 3, 4], 'q', 'w', 'e', 123, 4, 5]\n"
     ]
    }
   ],
   "source": [
    "my_list2.remove(4) #removes the first occurence of a value\n",
    "print(my_list2)"
   ]
  },
  {
   "cell_type": "code",
   "execution_count": 11,
   "metadata": {},
   "outputs": [
    {
     "name": "stdout",
     "output_type": "stream",
     "text": [
      "9\n"
     ]
    }
   ],
   "source": [
    "index_4=my_list2.index(4) #see what is at a specific place of the list\n",
    "print(index_4)"
   ]
  },
  {
   "cell_type": "code",
   "execution_count": 12,
   "metadata": {},
   "outputs": [
    {
     "data": {
      "text/plain": [
       "1"
      ]
     },
     "execution_count": 12,
     "metadata": {},
     "output_type": "execute_result"
    }
   ],
   "source": [
    "#my.list2.clear() deletes the list\n",
    "my_list2.count(4) #counts how often is sth is in the list"
   ]
  },
  {
   "cell_type": "code",
   "execution_count": 13,
   "metadata": {},
   "outputs": [
    {
     "name": "stdout",
     "output_type": "stream",
     "text": [
      "[5, 4, 123, 'e', 'w', 'q', [2, 3, 4], 'F', 1, 'R', 1999]\n"
     ]
    }
   ],
   "source": [
    "my_list2.reverse() #reverses elements in the list\n",
    "print(my_list2)"
   ]
  },
  {
   "cell_type": "code",
   "execution_count": 14,
   "metadata": {},
   "outputs": [
    {
     "name": "stdout",
     "output_type": "stream",
     "text": [
      "24\n",
      "28\n"
     ]
    }
   ],
   "source": [
    "#mutable vs immutable\n",
    "\n",
    "#immutable\n",
    "f=24\n",
    "w=f\n",
    "w+=4\n",
    "print(f)\n",
    "print(w)"
   ]
  },
  {
   "cell_type": "code",
   "execution_count": 15,
   "metadata": {},
   "outputs": [
    {
     "name": "stdout",
     "output_type": "stream",
     "text": [
      "2673917783056\n",
      "2673917783184\n"
     ]
    }
   ],
   "source": [
    "print(id(f))\n",
    "print(id(w))\n",
    "#immutable, each variable has an own ID"
   ]
  },
  {
   "cell_type": "code",
   "execution_count": 16,
   "metadata": {},
   "outputs": [
    {
     "name": "stdout",
     "output_type": "stream",
     "text": [
      "[1999, 24, 4, 7]\n",
      "[1999, 24, 4, 7]\n",
      "2673996417216\n",
      "2673996417216\n"
     ]
    }
   ],
   "source": [
    "#mutable\n",
    "list1=[1999,24,4]\n",
    "list2=list1\n",
    "list2.append(7)\n",
    "print(list1)\n",
    "print(list2)\n",
    "print(id(list1))\n",
    "print(id(list2))\n",
    "#mutable, lists share the same ID"
   ]
  },
  {
   "cell_type": "code",
   "execution_count": 17,
   "metadata": {},
   "outputs": [
    {
     "name": "stdout",
     "output_type": "stream",
     "text": [
      "[1999, 24, 4]\n",
      "[1999, 24, 4, 7]\n",
      "2674026381760\n",
      "2673996417600\n"
     ]
    }
   ],
   "source": [
    "#fixing mutability (Solution 1)\n",
    "list1=[1999,24,4]\n",
    "list2=list1.copy() #copies only top layer, so not lists in a list\n",
    "list2.append(7)\n",
    "print(list1)\n",
    "print(list2)\n",
    "print(id(list1))\n",
    "print(id(list2))"
   ]
  },
  {
   "cell_type": "code",
   "execution_count": 19,
   "metadata": {},
   "outputs": [
    {
     "name": "stdout",
     "output_type": "stream",
     "text": [
      "[1, 2, [1, 0, 100, 100]]\n",
      "[1, 2, [1, 0, 100, 100]]\n",
      "2673996424128\n",
      "2673996423552\n",
      "2673996423296\n",
      "2673996423296\n"
     ]
    }
   ],
   "source": [
    "# Fixing mutability (Solution 1)\n",
    "# list_1 = [1,2,3]\n",
    "list_1 = [1,2,[1,0,100] ]\n",
    "list_2 = list_1.copy() \n",
    "# list_2.append(100)\n",
    "list_2[2].append(100)\n",
    "print(list_1)\n",
    "print(list_2)\n",
    "print( id(list_1) )\n",
    "print( id(list_2) )\n",
    "print( id(list_1[2]) )\n",
    "print( id(list_2[2]) )\n"
   ]
  },
  {
   "cell_type": "code",
   "execution_count": 20,
   "metadata": {},
   "outputs": [
    {
     "name": "stdout",
     "output_type": "stream",
     "text": [
      "[1, 2, [1, 0, 100]]\n",
      "[1, 2, [1, 0, 100, 100]]\n",
      "2674026500992\n",
      "2674026553088\n",
      "2673996216832\n",
      "2673996424320\n"
     ]
    }
   ],
   "source": [
    "# Fixing mutability (Solution 2)\n",
    "import copy\n",
    "list_1 = [1,2,[1,0,100] ]\n",
    "list_2 = copy.deepcopy(list_1) \n",
    "# list_2.append(100)\n",
    "list_2[2].append(100)\n",
    "print(list_1)\n",
    "print(list_2)\n",
    "print( id(list_1) )\n",
    "print( id(list_2) )\n",
    "print( id(list_1[2]) )\n",
    "print( id(list_2[2]) )"
   ]
  },
  {
   "cell_type": "code",
   "execution_count": 21,
   "metadata": {},
   "outputs": [
    {
     "name": "stdout",
     "output_type": "stream",
     "text": [
      "True\n",
      "False\n"
     ]
    }
   ],
   "source": [
    "print (1 in list_1) #check if sth is in the list\n",
    "print (24 in list_1)"
   ]
  },
  {
   "cell_type": "code",
   "execution_count": 24,
   "metadata": {},
   "outputs": [
    {
     "name": "stdout",
     "output_type": "stream",
     "text": [
      "(1, 1, 'a')\n",
      "ab\n",
      "lenght of the tuple: 5\n",
      "count of 1 in tuple: 2\n",
      "check if b is in the tuple: True\n",
      "check index of 'b': 3\n"
     ]
    }
   ],
   "source": [
    "my_tuple = (1, 1, 'a', 'b', 'ab' )\n",
    "print (my_tuple[:3] )\n",
    "print (my_tuple[4])\n",
    "print (f'lenght of the tuple: {len (my_tuple)}' )\n",
    "print(f'count of 1 in tuple: {my_tuple.count(1)}')\n",
    "print(f\"check if b is in the tuple: {'b'in my_tuple}\")\n",
    "print(f\"check index of 'b': {my_tuple.index('b')}\")\n",
    "#cannot replace by my_tuple[2]='c' -> Error\n"
   ]
  },
  {
   "cell_type": "code",
   "execution_count": 26,
   "metadata": {},
   "outputs": [
    {
     "name": "stdout",
     "output_type": "stream",
     "text": [
      "(1, 2, 3, 4, 5, 6)\n"
     ]
    }
   ],
   "source": [
    "tuple_1=(1,2,3)\n",
    "tuple_2=(4,5,6)\n",
    "tuple_3=tuple_1+tuple_2\n",
    "print(tuple_3)"
   ]
  },
  {
   "cell_type": "code",
   "execution_count": 27,
   "metadata": {},
   "outputs": [
    {
     "name": "stdout",
     "output_type": "stream",
     "text": [
      "[1, 2, 3, 4, 5, 3]\n",
      "(1, 2, 3, 10, 5, 3)\n"
     ]
    }
   ],
   "source": [
    "tuple_1 = (1,2,3)\n",
    "tuple_2 = (4,5,3)\n",
    "tuple_3 = tuple_1 + tuple_2\n",
    "tmp_list = list(tuple_3)\n",
    "print (tmp_list)\n",
    "tmp_list[3] = 10\n",
    "tuple_3 = tuple(tmp_list)\n",
    "print (tuple_3)"
   ]
  },
  {
   "cell_type": "code",
   "execution_count": 30,
   "metadata": {},
   "outputs": [
    {
     "name": "stdout",
     "output_type": "stream",
     "text": [
      "8\n",
      "8\n"
     ]
    }
   ],
   "source": [
    "my_tuple = (1, 2, ['3', 4, 5], [6, [7, (8)]])\n",
    "print(my_tuple[3][1][1])\n",
    "print(my_tuple[-1][-1][-1])"
   ]
  },
  {
   "cell_type": "code",
   "execution_count": 31,
   "metadata": {},
   "outputs": [
    {
     "name": "stdout",
     "output_type": "stream",
     "text": [
      "[222, 33]\n",
      "(11, [222, 22], 44, 55)\n"
     ]
    }
   ],
   "source": [
    "tuple1 = (11, [222, 33], 44, 55)\n",
    "tmp_list=list(tuple1)\n",
    "print(tmp_list[1])\n",
    "tmp_list[1][1]=22\n",
    "tuple1=tuple(tuple1)\n",
    "print(tuple1)"
   ]
  },
  {
   "cell_type": "code",
   "execution_count": 32,
   "metadata": {},
   "outputs": [
    {
     "name": "stdout",
     "output_type": "stream",
     "text": [
      "(11, [222, 33], 44, 55)\n",
      "(11, [222, 22], 44, 55)\n"
     ]
    }
   ],
   "source": [
    "tuple1 = (11, [222, 33], 44, 55) #lists within tuples can be overwritten easily\n",
    "print(tuple1)\n",
    "tuple1[1][1]=22\n",
    "print(tuple1)"
   ]
  },
  {
   "cell_type": "code",
   "execution_count": 37,
   "metadata": {},
   "outputs": [
    {
     "name": "stdout",
     "output_type": "stream",
     "text": [
      "[0, 1, 2, 3, 4, 5, 6, 7, 8, 9, 10, 11, 12, 13, 14, 15, 16, 17, 18, 19, 20, 21, 22, 23]\n",
      "[4, 5, 6, 7, 8, 9, 10, 11, 12, 13, 14, 15, 16, 17, 18, 19, 20, 21, 22, 23]\n",
      "[4, 7, 10, 13, 16, 19, 22]\n"
     ]
    }
   ],
   "source": [
    "print(list(range(24)))\n",
    "print(list(range(4,24)))\n",
    "print(list(range(4,24,3)))"
   ]
  },
  {
   "cell_type": "code",
   "execution_count": 38,
   "metadata": {},
   "outputs": [
    {
     "name": "stdout",
     "output_type": "stream",
     "text": [
      "Driver is called Leclerc\n",
      "Driver is called Sainz\n",
      "Driver is called Alonso\n",
      "Driver is called Ocon\n",
      "went through all drivers\n"
     ]
    }
   ],
   "source": [
    "#for loops\n",
    "drivers=['Leclerc','Sainz','Alonso','Ocon']\n",
    "for driver in drivers:\n",
    "    print(f'Driver is called {driver}') #the four spaces tell Python that this part belongs to a loop\n",
    "print (\"went through all drivers\")"
   ]
  },
  {
   "cell_type": "code",
   "execution_count": 41,
   "metadata": {},
   "outputs": [
    {
     "name": "stdout",
     "output_type": "stream",
     "text": [
      "index is 1999\n",
      "index is 1995\n",
      "index is 1991\n",
      "index is 1987\n",
      "index is 1983\n",
      "index is 1979\n",
      "index is 1975\n",
      "index is 1971\n",
      "index is 1967\n",
      "index is 1963\n",
      "index is 1959\n",
      "index is 1955\n",
      "index is 1951\n",
      "index is 1947\n",
      "index is 1943\n",
      "index is 1939\n",
      "index is 1935\n",
      "index is 1931\n",
      "index is 1927\n",
      "index is 1923\n",
      "index is 1919\n",
      "index is 1915\n",
      "index is 1911\n",
      "index is 1907\n",
      "index is 1903\n",
      "index is 1899\n",
      "index is 1895\n",
      "index is 1891\n",
      "index is 1887\n",
      "index is 1883\n",
      "index is 1879\n",
      "index is 1875\n",
      "index is 1871\n",
      "index is 1867\n",
      "index is 1863\n",
      "index is 1859\n",
      "index is 1855\n",
      "index is 1851\n",
      "index is 1847\n",
      "index is 1843\n",
      "index is 1839\n",
      "index is 1835\n",
      "index is 1831\n",
      "index is 1827\n",
      "index is 1823\n",
      "index is 1819\n",
      "index is 1815\n",
      "index is 1811\n",
      "index is 1807\n",
      "index is 1803\n",
      "index is 1799\n",
      "index is 1795\n",
      "index is 1791\n",
      "index is 1787\n",
      "index is 1783\n",
      "index is 1779\n",
      "index is 1775\n",
      "index is 1771\n",
      "index is 1767\n",
      "index is 1763\n",
      "index is 1759\n",
      "index is 1755\n",
      "index is 1751\n",
      "index is 1747\n",
      "index is 1743\n",
      "index is 1739\n",
      "index is 1735\n",
      "index is 1731\n",
      "index is 1727\n",
      "index is 1723\n",
      "index is 1719\n",
      "index is 1715\n",
      "index is 1711\n",
      "index is 1707\n",
      "index is 1703\n",
      "index is 1699\n",
      "index is 1695\n",
      "index is 1691\n",
      "index is 1687\n",
      "index is 1683\n",
      "index is 1679\n",
      "index is 1675\n",
      "index is 1671\n",
      "index is 1667\n",
      "index is 1663\n",
      "index is 1659\n",
      "index is 1655\n",
      "index is 1651\n",
      "index is 1647\n",
      "index is 1643\n",
      "index is 1639\n",
      "index is 1635\n",
      "index is 1631\n",
      "index is 1627\n",
      "index is 1623\n",
      "index is 1619\n",
      "index is 1615\n",
      "index is 1611\n",
      "index is 1607\n",
      "index is 1603\n",
      "index is 1599\n",
      "index is 1595\n",
      "index is 1591\n",
      "index is 1587\n",
      "index is 1583\n",
      "index is 1579\n",
      "index is 1575\n",
      "index is 1571\n",
      "index is 1567\n",
      "index is 1563\n",
      "index is 1559\n",
      "index is 1555\n",
      "index is 1551\n",
      "index is 1547\n",
      "index is 1543\n",
      "index is 1539\n",
      "index is 1535\n",
      "index is 1531\n",
      "index is 1527\n",
      "index is 1523\n",
      "index is 1519\n",
      "index is 1515\n",
      "index is 1511\n",
      "index is 1507\n",
      "index is 1503\n",
      "index is 1499\n",
      "index is 1495\n",
      "index is 1491\n",
      "index is 1487\n",
      "index is 1483\n",
      "index is 1479\n",
      "index is 1475\n",
      "index is 1471\n",
      "index is 1467\n",
      "index is 1463\n",
      "index is 1459\n",
      "index is 1455\n",
      "index is 1451\n",
      "index is 1447\n",
      "index is 1443\n",
      "index is 1439\n",
      "index is 1435\n",
      "index is 1431\n",
      "index is 1427\n",
      "index is 1423\n",
      "index is 1419\n",
      "index is 1415\n",
      "index is 1411\n",
      "index is 1407\n",
      "index is 1403\n",
      "index is 1399\n",
      "index is 1395\n",
      "index is 1391\n",
      "index is 1387\n",
      "index is 1383\n",
      "index is 1379\n",
      "index is 1375\n",
      "index is 1371\n",
      "index is 1367\n",
      "index is 1363\n",
      "index is 1359\n",
      "index is 1355\n",
      "index is 1351\n",
      "index is 1347\n",
      "index is 1343\n",
      "index is 1339\n",
      "index is 1335\n",
      "index is 1331\n",
      "index is 1327\n",
      "index is 1323\n",
      "index is 1319\n",
      "index is 1315\n",
      "index is 1311\n",
      "index is 1307\n",
      "index is 1303\n",
      "index is 1299\n",
      "index is 1295\n",
      "index is 1291\n",
      "index is 1287\n",
      "index is 1283\n",
      "index is 1279\n",
      "index is 1275\n",
      "index is 1271\n",
      "index is 1267\n",
      "index is 1263\n",
      "index is 1259\n",
      "index is 1255\n",
      "index is 1251\n",
      "index is 1247\n",
      "index is 1243\n",
      "index is 1239\n",
      "index is 1235\n",
      "index is 1231\n",
      "index is 1227\n",
      "index is 1223\n",
      "index is 1219\n",
      "index is 1215\n",
      "index is 1211\n",
      "index is 1207\n",
      "index is 1203\n",
      "index is 1199\n",
      "index is 1195\n",
      "index is 1191\n",
      "index is 1187\n",
      "index is 1183\n",
      "index is 1179\n",
      "index is 1175\n",
      "index is 1171\n",
      "index is 1167\n",
      "index is 1163\n",
      "index is 1159\n",
      "index is 1155\n",
      "index is 1151\n",
      "index is 1147\n",
      "index is 1143\n",
      "index is 1139\n",
      "index is 1135\n",
      "index is 1131\n",
      "index is 1127\n",
      "index is 1123\n",
      "index is 1119\n",
      "index is 1115\n",
      "index is 1111\n",
      "index is 1107\n",
      "index is 1103\n",
      "index is 1099\n",
      "index is 1095\n",
      "index is 1091\n",
      "index is 1087\n",
      "index is 1083\n",
      "index is 1079\n",
      "index is 1075\n",
      "index is 1071\n",
      "index is 1067\n",
      "index is 1063\n",
      "index is 1059\n",
      "index is 1055\n",
      "index is 1051\n",
      "index is 1047\n",
      "index is 1043\n",
      "index is 1039\n",
      "index is 1035\n",
      "index is 1031\n",
      "index is 1027\n",
      "index is 1023\n",
      "index is 1019\n",
      "index is 1015\n",
      "index is 1011\n",
      "index is 1007\n",
      "index is 1003\n",
      "index is 999\n",
      "index is 995\n",
      "index is 991\n",
      "index is 987\n",
      "index is 983\n",
      "index is 979\n",
      "index is 975\n",
      "index is 971\n",
      "index is 967\n",
      "index is 963\n",
      "index is 959\n",
      "index is 955\n",
      "index is 951\n",
      "index is 947\n",
      "index is 943\n",
      "index is 939\n",
      "index is 935\n",
      "index is 931\n",
      "index is 927\n",
      "index is 923\n",
      "index is 919\n",
      "index is 915\n",
      "index is 911\n",
      "index is 907\n",
      "index is 903\n",
      "index is 899\n",
      "index is 895\n",
      "index is 891\n",
      "index is 887\n",
      "index is 883\n",
      "index is 879\n",
      "index is 875\n",
      "index is 871\n",
      "index is 867\n",
      "index is 863\n",
      "index is 859\n",
      "index is 855\n",
      "index is 851\n",
      "index is 847\n",
      "index is 843\n",
      "index is 839\n",
      "index is 835\n",
      "index is 831\n",
      "index is 827\n",
      "index is 823\n",
      "index is 819\n",
      "index is 815\n",
      "index is 811\n",
      "index is 807\n",
      "index is 803\n",
      "index is 799\n",
      "index is 795\n",
      "index is 791\n",
      "index is 787\n",
      "index is 783\n",
      "index is 779\n",
      "index is 775\n",
      "index is 771\n",
      "index is 767\n",
      "index is 763\n",
      "index is 759\n",
      "index is 755\n",
      "index is 751\n",
      "index is 747\n",
      "index is 743\n",
      "index is 739\n",
      "index is 735\n",
      "index is 731\n",
      "index is 727\n",
      "index is 723\n",
      "index is 719\n",
      "index is 715\n",
      "index is 711\n",
      "index is 707\n",
      "index is 703\n",
      "index is 699\n",
      "index is 695\n",
      "index is 691\n",
      "index is 687\n",
      "index is 683\n",
      "index is 679\n",
      "index is 675\n",
      "index is 671\n",
      "index is 667\n",
      "index is 663\n",
      "index is 659\n",
      "index is 655\n",
      "index is 651\n",
      "index is 647\n",
      "index is 643\n",
      "index is 639\n",
      "index is 635\n",
      "index is 631\n",
      "index is 627\n",
      "index is 623\n",
      "index is 619\n",
      "index is 615\n",
      "index is 611\n",
      "index is 607\n",
      "index is 603\n",
      "index is 599\n",
      "index is 595\n",
      "index is 591\n",
      "index is 587\n",
      "index is 583\n",
      "index is 579\n",
      "index is 575\n",
      "index is 571\n",
      "index is 567\n",
      "index is 563\n",
      "index is 559\n",
      "index is 555\n",
      "index is 551\n",
      "index is 547\n",
      "index is 543\n",
      "index is 539\n",
      "index is 535\n",
      "index is 531\n",
      "index is 527\n",
      "index is 523\n",
      "index is 519\n",
      "index is 515\n",
      "index is 511\n",
      "index is 507\n",
      "index is 503\n",
      "index is 499\n",
      "index is 495\n",
      "index is 491\n",
      "index is 487\n",
      "index is 483\n",
      "index is 479\n",
      "index is 475\n",
      "index is 471\n",
      "index is 467\n",
      "index is 463\n",
      "index is 459\n",
      "index is 455\n",
      "index is 451\n",
      "index is 447\n",
      "index is 443\n",
      "index is 439\n",
      "index is 435\n",
      "index is 431\n",
      "index is 427\n",
      "index is 423\n",
      "index is 419\n",
      "index is 415\n",
      "index is 411\n",
      "index is 407\n",
      "index is 403\n",
      "index is 399\n",
      "index is 395\n",
      "index is 391\n",
      "index is 387\n",
      "index is 383\n",
      "index is 379\n",
      "index is 375\n",
      "index is 371\n",
      "index is 367\n",
      "index is 363\n",
      "index is 359\n",
      "index is 355\n",
      "index is 351\n",
      "index is 347\n",
      "index is 343\n",
      "index is 339\n",
      "index is 335\n",
      "index is 331\n",
      "index is 327\n",
      "index is 323\n",
      "index is 319\n",
      "index is 315\n",
      "index is 311\n",
      "index is 307\n",
      "index is 303\n",
      "index is 299\n",
      "index is 295\n",
      "index is 291\n",
      "index is 287\n",
      "index is 283\n",
      "index is 279\n",
      "index is 275\n",
      "index is 271\n",
      "index is 267\n",
      "index is 263\n",
      "index is 259\n",
      "index is 255\n",
      "index is 251\n",
      "index is 247\n",
      "index is 243\n",
      "index is 239\n",
      "index is 235\n",
      "index is 231\n",
      "index is 227\n",
      "index is 223\n",
      "index is 219\n",
      "index is 215\n",
      "index is 211\n",
      "index is 207\n",
      "index is 203\n",
      "index is 199\n",
      "index is 195\n",
      "index is 191\n",
      "index is 187\n",
      "index is 183\n",
      "index is 179\n",
      "index is 175\n",
      "index is 171\n",
      "index is 167\n",
      "index is 163\n",
      "index is 159\n",
      "index is 155\n",
      "index is 151\n",
      "index is 147\n",
      "index is 143\n",
      "index is 139\n",
      "index is 135\n",
      "index is 131\n",
      "index is 127\n",
      "index is 123\n",
      "index is 119\n",
      "index is 115\n",
      "index is 111\n",
      "index is 107\n",
      "index is 103\n",
      "index is 99\n",
      "index is 95\n",
      "index is 91\n",
      "index is 87\n",
      "index is 83\n",
      "index is 79\n",
      "index is 75\n",
      "index is 71\n",
      "index is 67\n",
      "index is 63\n",
      "index is 59\n",
      "index is 55\n",
      "index is 51\n",
      "index is 47\n",
      "index is 43\n",
      "index is 39\n",
      "index is 35\n",
      "index is 31\n",
      "index is 27\n"
     ]
    }
   ],
   "source": [
    "for i in range(1999,24,-4):\n",
    "    print (f'index is {i}')\n"
   ]
  },
  {
   "cell_type": "code",
   "execution_count": 48,
   "metadata": {},
   "outputs": [
    {
     "name": "stdout",
     "output_type": "stream",
     "text": [
      "Monday\n",
      "10\n",
      "11\n",
      "12\n",
      "13\n",
      "14\n",
      "15\n",
      "16\n",
      "17\n",
      "18\n",
      "19\n",
      "Checking next day\n",
      "Tuesday\n",
      "10\n",
      "11\n",
      "12\n",
      "13\n",
      "14\n",
      "15\n",
      "16\n",
      "17\n",
      "18\n",
      "19\n",
      "Checking next day\n",
      "Wednesday\n",
      "10\n",
      "11\n",
      "12\n",
      "13\n",
      "14\n",
      "15\n",
      "16\n",
      "17\n",
      "18\n",
      "19\n",
      "Checking next day\n",
      "Thursday\n",
      "10\n",
      "11\n",
      "12\n",
      "13\n",
      "14\n",
      "15\n",
      "16\n",
      "17\n",
      "18\n",
      "19\n",
      "Checking next day\n",
      "Friday\n",
      "10\n",
      "11\n",
      "12\n",
      "13\n",
      "14\n",
      "15\n",
      "16\n",
      "17\n",
      "18\n",
      "19\n",
      "Checking next day\n",
      "Saturday\n",
      "10\n",
      "11\n",
      "12\n",
      "13\n",
      "14\n",
      "15\n",
      "16\n",
      "17\n",
      "18\n",
      "19\n",
      "Checking next day\n",
      "Sunday\n",
      "10\n",
      "11\n",
      "12\n",
      "13\n",
      "14\n",
      "15\n",
      "16\n",
      "17\n",
      "18\n",
      "19\n",
      "Checking next day\n",
      "[('Monday', 10), ('Monday', 11), ('Monday', 12), ('Monday', 13), ('Monday', 14), ('Monday', 15), ('Monday', 16), ('Monday', 17), ('Monday', 18), ('Monday', 19), ('Tuesday', 10), ('Tuesday', 11), ('Tuesday', 12), ('Tuesday', 13), ('Tuesday', 14), ('Tuesday', 15), ('Tuesday', 16), ('Tuesday', 17), ('Tuesday', 18), ('Tuesday', 19), ('Wednesday', 10), ('Wednesday', 11), ('Wednesday', 12), ('Wednesday', 13), ('Wednesday', 14), ('Wednesday', 15), ('Wednesday', 16), ('Wednesday', 17), ('Wednesday', 18), ('Wednesday', 19), ('Thursday', 10), ('Thursday', 11), ('Thursday', 12), ('Thursday', 13), ('Thursday', 14), ('Thursday', 15), ('Thursday', 16), ('Thursday', 17), ('Thursday', 18), ('Thursday', 19), ('Friday', 10), ('Friday', 11), ('Friday', 12), ('Friday', 13), ('Friday', 14), ('Friday', 15), ('Friday', 16), ('Friday', 17), ('Friday', 18), ('Friday', 19), ('Saturday', 10), ('Saturday', 11), ('Saturday', 12), ('Saturday', 13), ('Saturday', 14), ('Saturday', 15), ('Saturday', 16), ('Saturday', 17), ('Saturday', 18), ('Saturday', 19), ('Sunday', 10), ('Sunday', 11), ('Sunday', 12), ('Sunday', 13), ('Sunday', 14), ('Sunday', 15), ('Sunday', 16), ('Sunday', 17), ('Sunday', 18), ('Sunday', 19)]\n"
     ]
    }
   ],
   "source": [
    "days = ('Monday', 'Tuesday', 'Wednesday', 'Thursday', 'Friday', 'Saturday' , 'Sunday') #tuple\n",
    "hours = [10, 11, 12, 13, 14, 15, 16, 17, 18, 19] #list\n",
    "combinations=[]\n",
    "for day in days:\n",
    "    print(day)\n",
    "    for hour in hours:\n",
    "        print(hour)\n",
    "        combinations.append((day,hour))\n",
    "    print('Checking next day')\n",
    "\n",
    "print(combinations)"
   ]
  },
  {
   "cell_type": "code",
   "execution_count": 49,
   "metadata": {},
   "outputs": [],
   "source": [
    "text=input(\"enter sth\")"
   ]
  },
  {
   "cell_type": "code",
   "execution_count": 50,
   "metadata": {},
   "outputs": [
    {
     "name": "stdout",
     "output_type": "stream",
     "text": [
      "fuck off\n"
     ]
    }
   ],
   "source": [
    "print(text)"
   ]
  }
 ],
 "metadata": {
  "interpreter": {
   "hash": "126b06dd3950ee075bbec4f5a8d9da3a7c7c385767bffed3b81c8ab9743c826b"
  },
  "kernelspec": {
   "display_name": "Python 3.9.7 64-bit",
   "language": "python",
   "name": "python3"
  },
  "language_info": {
   "codemirror_mode": {
    "name": "ipython",
    "version": 3
   },
   "file_extension": ".py",
   "mimetype": "text/x-python",
   "name": "python",
   "nbconvert_exporter": "python",
   "pygments_lexer": "ipython3",
   "version": "3.9.7"
  },
  "orig_nbformat": 4
 },
 "nbformat": 4,
 "nbformat_minor": 2
}
