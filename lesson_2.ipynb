{
 "cells": [
  {
   "cell_type": "code",
   "execution_count": 1,
   "metadata": {},
   "outputs": [],
   "source": [
    "my_name = 'Fiete'"
   ]
  },
  {
   "cell_type": "code",
   "execution_count": 2,
   "metadata": {},
   "outputs": [
    {
     "data": {
      "text/plain": [
       "'e'"
      ]
     },
     "execution_count": 2,
     "metadata": {},
     "output_type": "execute_result"
    }
   ],
   "source": [
    "my_name [4]"
   ]
  },
  {
   "cell_type": "code",
   "execution_count": 4,
   "metadata": {},
   "outputs": [
    {
     "data": {
      "text/plain": [
       "5"
      ]
     },
     "execution_count": 4,
     "metadata": {},
     "output_type": "execute_result"
    }
   ],
   "source": [
    "len (my_name)"
   ]
  },
  {
   "cell_type": "code",
   "execution_count": 8,
   "metadata": {},
   "outputs": [
    {
     "name": "stdout",
     "output_type": "stream",
     "text": [
      " \"I don't make the rules I'm just one guy.\" \n"
     ]
    }
   ],
   "source": [
    "#How to input quotes without confusing Python\n",
    "my_text = \"\"\" \"I don't make the rules I'm just one guy.\" \"\"\"\n",
    "print (my_text)"
   ]
  },
  {
   "cell_type": "code",
   "execution_count": 10,
   "metadata": {},
   "outputs": [
    {
     "name": "stdout",
     "output_type": "stream",
     "text": [
      "I woke up early once again\n",
      "that's four days straight\n"
     ]
    }
   ],
   "source": [
    "#How to have line breaks - triple \"\"\" or \\n\n",
    "my_text2 = \"\"\"I woke up early once again\n",
    "that's four days straight\"\"\"\n",
    "print (my_text2)"
   ]
  },
  {
   "cell_type": "code",
   "execution_count": 11,
   "metadata": {},
   "outputs": [
    {
     "name": "stdout",
     "output_type": "stream",
     "text": [
      "I didn't wake you baby\n",
      "I just watch you lay\n"
     ]
    }
   ],
   "source": [
    "my_text3 = \"I didn\\'t wake you baby\\nI just watch you lay\"\n",
    "print (my_text3)"
   ]
  },
  {
   "cell_type": "code",
   "execution_count": 12,
   "metadata": {},
   "outputs": [
    {
     "name": "stdout",
     "output_type": "stream",
     "text": [
      "I woke up early once again\n",
      "that's four days straight I didn't wake you baby\n",
      "I just watch you lay\n",
      "I woke up early once again\n",
      "that's four days straightI woke up early once again\n",
      "that's four days straightI woke up early once again\n",
      "that's four days straightI woke up early once again\n",
      "that's four days straight\n"
     ]
    }
   ],
   "source": [
    "#Adding texts and multiply\n",
    "print (my_text2 + ' ' + my_text3)\n",
    "print (my_text2 * 4)"
   ]
  },
  {
   "cell_type": "code",
   "execution_count": 18,
   "metadata": {},
   "outputs": [
    {
     "name": "stdout",
     "output_type": "stream",
     "text": [
      "Radiation:\n",
      "I woke up early once again\n",
      "that's four days straight\n",
      "I didn't wake you baby\n",
      "I just watch you lay\n"
     ]
    }
   ],
   "source": [
    "print ('Radiation:' + '\\n' + my_text2 + '\\n' + my_text3)"
   ]
  },
  {
   "cell_type": "code",
   "execution_count": 21,
   "metadata": {},
   "outputs": [
    {
     "name": "stdout",
     "output_type": "stream",
     "text": [
      "My name is Fiete\n",
      "My name is Fiete\n"
     ]
    }
   ],
   "source": [
    "#f string\n",
    "print ( f'My name is {my_name}')\n",
    "print ('My name is {}'.format(my_name))"
   ]
  },
  {
   "cell_type": "code",
   "execution_count": 22,
   "metadata": {},
   "outputs": [
    {
     "name": "stdout",
     "output_type": "stream",
     "text": [
      "n them fast, fuck the slo-mo\n",
      "n th\n",
      "te eesfs,r\n",
      "Run them jewels fast, run them fast, fuck the slo-mo\n",
      "om-ols eht kcuf ,tsaf meht nur ,tsaf slewej meht nuR\n",
      "o-l h cf,sfmh u ta lwjmh u\n"
     ]
    }
   ],
   "source": [
    "#slicing\n",
    "sentence = 'Run them jewels fast, run them fast, fuck the slo-mo'\n",
    "print (sentence [24:]) #from 24 to the end\n",
    "print (sentence [24:28]) #from 24 to 28\n",
    "print (sentence [4:24:2]) #from 4 to 24, every 2nd letter -> [start:end:step]\n",
    "print (sentence [::]) #whole text\n",
    "print (sentence [::-1]) #backwards\n",
    "print (sentence [::-2]) #backwards, every 2nd letter"
   ]
  },
  {
   "cell_type": "code",
   "execution_count": 24,
   "metadata": {},
   "outputs": [
    {
     "name": "stdout",
     "output_type": "stream",
     "text": [
      "Run them jewels fast\n"
     ]
    }
   ],
   "source": [
    "print (sentence[:sentence.find(',')]) #only until ',' appears"
   ]
  },
  {
   "cell_type": "code",
   "execution_count": 28,
   "metadata": {},
   "outputs": [
    {
     "data": {
      "text/plain": [
       "1999"
      ]
     },
     "execution_count": 28,
     "metadata": {},
     "output_type": "execute_result"
    }
   ],
   "source": [
    "text_with_numbers = '24,4,1999' #split text and make it a number/integer\n",
    "int( text_with_numbers.split(',')[2] )\n"
   ]
  },
  {
   "cell_type": "code",
   "execution_count": 29,
   "metadata": {},
   "outputs": [
    {
     "data": {
      "text/plain": [
       "'Kimi Raikkonen'"
      ]
     },
     "execution_count": 29,
     "metadata": {},
     "output_type": "execute_result"
    }
   ],
   "source": [
    "driver = 'kimi raikkonen' #capitalize first letters\n",
    "driver.title()"
   ]
  },
  {
   "cell_type": "code",
   "execution_count": 30,
   "metadata": {},
   "outputs": [
    {
     "name": "stdout",
     "output_type": "stream",
     "text": [
      "Run them jewels slow, run them slow, fuck the slo-mo\n"
     ]
    }
   ],
   "source": [
    "#How to replace sth\n",
    "print (sentence.replace('fast', 'slow')) #does not change the original sentence, code would be sentence = sentence.replace('fast', 'slow')"
   ]
  },
  {
   "cell_type": "code",
   "execution_count": 31,
   "metadata": {},
   "outputs": [
    {
     "data": {
      "text/plain": [
       "52"
      ]
     },
     "execution_count": 31,
     "metadata": {},
     "output_type": "execute_result"
    }
   ],
   "source": [
    "len (sentence)"
   ]
  },
  {
   "cell_type": "code",
   "execution_count": 35,
   "metadata": {},
   "outputs": [
    {
     "name": "stdout",
     "output_type": "stream",
     "text": [
      "slo-mo\n"
     ]
    }
   ],
   "source": [
    "print (sentence[-6:]) #only print the last 6 signs"
   ]
  },
  {
   "cell_type": "code",
   "execution_count": 39,
   "metadata": {},
   "outputs": [
    {
     "name": "stdout",
     "output_type": "stream",
     "text": [
      "Friedrich Wilhelm Draeger\n",
      "Friedrich Wilhelm Draeger\n"
     ]
    }
   ],
   "source": [
    "name = 'Friedrich Wilhelm'\n",
    "surname = 'Draeger'\n",
    "print (name + ' ' + surname)\n",
    "#better way\n",
    "print ( f'{name} {surname}' )"
   ]
  },
  {
   "cell_type": "code",
   "execution_count": 37,
   "metadata": {},
   "outputs": [
    {
     "name": "stdout",
     "output_type": "stream",
     "text": [
      "PYTHON MAKES ME REALLY REALLY HAPPY.\n"
     ]
    }
   ],
   "source": [
    "text = 'Python makes me really really happy.'\n",
    "print (text.upper())\n"
   ]
  },
  {
   "cell_type": "code",
   "execution_count": 38,
   "metadata": {},
   "outputs": [
    {
     "name": "stdout",
     "output_type": "stream",
     "text": [
      "PyThOn makes me really really happy.\n"
     ]
    }
   ],
   "source": [
    "print (text.replace('Python','PyThOn'))"
   ]
  },
  {
   "cell_type": "code",
   "execution_count": 41,
   "metadata": {},
   "outputs": [
    {
     "name": "stdout",
     "output_type": "stream",
     "text": [
      "18\n",
      "happy\n",
      "40\n"
     ]
    }
   ],
   "source": [
    "example2 = 'Hello World, I am happy to learn Python!'\n",
    "word_to_find = 'happy'\n",
    "print(example2.index(word_to_find))\n",
    "print(example2[example2.index(word_to_find):example2.index(word_to_find) + len (word_to_find)])\n",
    "print(len(example2))"
   ]
  }
 ],
 "metadata": {
  "interpreter": {
   "hash": "126b06dd3950ee075bbec4f5a8d9da3a7c7c385767bffed3b81c8ab9743c826b"
  },
  "kernelspec": {
   "display_name": "Python 3.9.7 64-bit",
   "language": "python",
   "name": "python3"
  },
  "language_info": {
   "codemirror_mode": {
    "name": "ipython",
    "version": 3
   },
   "file_extension": ".py",
   "mimetype": "text/x-python",
   "name": "python",
   "nbconvert_exporter": "python",
   "pygments_lexer": "ipython3",
   "version": "3.9.7"
  },
  "orig_nbformat": 4
 },
 "nbformat": 4,
 "nbformat_minor": 2
}
