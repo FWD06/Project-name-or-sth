{
 "cells": [
  {
   "cell_type": "code",
   "execution_count": 7,
   "metadata": {},
   "outputs": [
    {
     "name": "stdout",
     "output_type": "stream",
     "text": [
      "A year on from announcing its sustainability plans, these are the changes that Formula 1 has made in the past year: \n",
      "Formula 1 worked with a consortium of F1 teams to rapidly innovate, design & deliver new ventilator devices to support critically ill Covid-19 patients.\n",
      "Reduced travelling staff by 36% and freight by 34%, eliminating around 70 tonnes of freight taken to every race and reducing logistic emissions.\n",
      "100% renewable energy sources for all Formula 1 offices.\n",
      "Being awarded 3* environmental accreditation from the FIA - the maximum possible - for demonstrating best practice and commitment to seeking continual improvement.\n",
      "Signed the United Nations Sports for Climate Action Framework.\n",
      "Set up a working group of F1 & FIA personnel to investigate a future engine formula powered by sustainable fuels.\n",
      "Overall, how do you feel about the progress that Formula 1 has made around its sustainability plans?\n"
     ]
    }
   ],
   "source": [
    "user_input=''\n",
    "user_input=input('Search for question or statement:')\n",
    "if user_input=='Q2':\n",
    "    print('To start, how concerned are you about environmental issues?')\n",
    "elif user_input=='Q3':\n",
    "    print('Do you think environmental issues directly affect your life?')\n",
    "elif user_input=='Q4':\n",
    "    print('Do you participate in sustainability activities?')\n",
    "elif user_input=='Q6':\n",
    "    print('A year on from announcing its sustainability plans, these are the changes that Formula 1 has made in the past year: \\nFormula 1 worked with a consortium of F1 teams to rapidly innovate, design & deliver new ventilator devices to support critically ill Covid-19 patients.\\nReduced travelling staff by 36% and freight by 34%, eliminating around 70 tonnes of freight taken to every race and reducing logistic emissions.\\n100% renewable energy sources for all Formula 1 offices.\\nBeing awarded 3* environmental accreditation from the FIA - the maximum possible - for demonstrating best practice and commitment to seeking continual improvement.\\nSigned the United Nations Sports for Climate Action Framework.\\nSet up a working group of F1 & FIA personnel to investigate a future engine formula powered by sustainable fuels.\\nOverall, how do you feel about the progress that Formula 1 has made around its sustainability plans?')\n",
    "elif user_input=='Q7':\n",
    "    print('Do you think that Formula 1 has over/under achieved in the first year of its 10 year sustainability strategy?')\n",
    "elif user_input=='Q8a':\n",
    "    print(\"\"\"I appreciate F1's efforts to act in a more sustainable way\"\"\")\n",
    "elif user_input=='Q8b':\n",
    "    print('It is right that F1 should be a leader in sustainability in motorsport')\n",
    "elif user_input=='Q8c':\n",
    "    print('The new strategy is just a marketing ploy')\n",
    "elif user_input=='Q8d':\n",
    "    print('F1 tries to take an advantage of the trend towards sustainability but will not stick to its aims when the trend is over')\n",
    "elif user_input=='Q8e':\n",
    "    print('The plans are too ambitious and hard to achieve')\n",
    "elif user_input=='Q8f':\n",
    "    print(\"\"\"F1's impact on the planet is small, so it does not matter if it reduces its carbon footprint\"\"\")\n",
    "elif user_input=='Q8g':\n",
    "    print('The plans are ambitious and should be applauded')\n",
    "elif user_input=='Q9a':\n",
    "    print('F1 has more important challenges than caring for the environment')\n",
    "elif user_input=='Q9b':\n",
    "    print(\"\"\"The strategy is important to ensure the longevity of F1\"\"\")\n",
    "elif user_input=='Q9c':\n",
    "    print(\"\"\"The initiative fits well with the DNA of F1's technological innovation\"\"\")\n",
    "elif user_input=='Q9d':\n",
    "    print('The strategy is a threat for Formula 1')\n",
    "elif user_input=='Q9e':\n",
    "    print('The sustainability aims will lead to changes that harm the sport')\n",
    "elif user_input=='Q9f':\n",
    "    print('I am willing to change my behaviour as a F1 fan to contribute to a more sustainable sport')\n",
    "elif user_input=='Q12a':\n",
    "    print('Sustainability is an important value for me')\n",
    "elif user_input=='Q12b':\n",
    "    print('I care about environmental protection')\n",
    "elif user_input=='Q12c':\n",
    "    print('I am willing to change my lifestyle in order to act more sustainable')\n",
    "elif user_input=='Q12d':\n",
    "    print(\"\"\"Sustainability topics are over-represented in today's public discussions\"\"\")\n",
    "elif user_input=='Q12e':\n",
    "    print('The importance of sustainability is overestimated')\n",
    "elif user_input=='Q12f':\n",
    "    print('Sustainability became a buzzword with no deeper meaning')\n",
    "elif user_input=='Q13a':\n",
    "    print('Companies should take responsibility in sustainability issues')\n",
    "elif user_input=='Q13b':\n",
    "    print('Since companies are the main contributors to climate change, they have an obligation to take measures to reduce their environmental damage')\n",
    "elif user_input=='Q13c':\n",
    "    print('Authorities have to take the most important steps to ensure sustainability, not companies')\n",
    "elif user_input=='Q13d':\n",
    "    print('It is the aim of companies to maximise their profits, not to save the world')\n",
    "elif user_input=='Q13e':\n",
    "    print('I do not believe in voluntarily commitments of companies regarding sustainability')\n",
    "elif user_input=='Q13f':\n",
    "    print('Sustainability reports of companies are trustworthy and reliable')\n",
    "else:\n",
    "    print('Question/Statement not found.')"
   ]
  },
  {
   "cell_type": "code",
   "execution_count": 11,
   "metadata": {},
   "outputs": [
    {
     "name": "stdout",
     "output_type": "stream",
     "text": [
      "A scale value of 1 means:\n",
      "- for Q2: very concerned\n",
      "- for Q3 and Q4: Yes\n",
      "- for Q6: Very positive\n",
      "- for Q7: overachieved\n",
      " - for Q8, Q9, Q12, Q13: Strongly agree\n"
     ]
    }
   ],
   "source": [
    "user_input_2=''\n",
    "user_input_2=input('Search for scale meaning')\n",
    "if user_input_2=='1':\n",
    "    print('A scale value of 1 means:\\n- for Q2: very concerned\\n- for Q3 and Q4: Yes\\n- for Q6: Very positive\\n- for Q7: overachieved\\n - for Q8, Q9, Q12, Q13: Strongly agree')\n",
    "elif user_input_2=='Q3':\n",
    "    print('Do you think environmental issues directly affect your life?')"
   ]
  }
 ],
 "metadata": {
  "interpreter": {
   "hash": "126b06dd3950ee075bbec4f5a8d9da3a7c7c385767bffed3b81c8ab9743c826b"
  },
  "kernelspec": {
   "display_name": "Python 3.9.7 64-bit",
   "language": "python",
   "name": "python3"
  },
  "language_info": {
   "codemirror_mode": {
    "name": "ipython",
    "version": 3
   },
   "file_extension": ".py",
   "mimetype": "text/x-python",
   "name": "python",
   "nbconvert_exporter": "python",
   "pygments_lexer": "ipython3",
   "version": "3.9.7"
  },
  "orig_nbformat": 4
 },
 "nbformat": 4,
 "nbformat_minor": 2
}
