{
 "cells": [
  {
   "cell_type": "code",
   "execution_count": 1,
   "metadata": {},
   "outputs": [
    {
     "name": "stdout",
     "output_type": "stream",
     "text": [
      "['Wer', 'Informationen', 'aus', 'der', 'Hölle', 'will', 'kann', 'nicht', 'nur', 'mit']\n"
     ]
    }
   ],
   "source": [
    "list_1=['Wer','Informationen','aus','der','Hölle','will','kann','nicht','nur','mit']\n",
    "print(list_1)"
   ]
  },
  {
   "cell_type": "code",
   "execution_count": 2,
   "metadata": {},
   "outputs": [
    {
     "name": "stdout",
     "output_type": "stream",
     "text": [
      "Wer = 3\n",
      "Informationen = 13\n",
      "aus = 3\n",
      "der = 3\n",
      "Hölle = 5\n",
      "will = 4\n",
      "kann = 4\n",
      "nicht = 5\n",
      "nur = 3\n",
      "mit = 3\n",
      "[3, 13, 3, 3, 5, 4, 4, 5, 3, 3]\n",
      "1\n"
     ]
    }
   ],
   "source": [
    "len(list_1[0])\n",
    "for i in list_1:\n",
    "    print(i,'=',len(i))\n",
    "list_2=[len(list_1[0]),len(list_1[1]),len(list_1[2]),len(list_1[3]),len(list_1[4]),len(list_1[5]),len(list_1[6]),len(list_1[7]),len(list_1[8]),len(list_1[9])]\n",
    "print(list_2)\n",
    "print(sum(x>=10 for x in list_2))"
   ]
  },
  {
   "cell_type": "code",
   "execution_count": 3,
   "metadata": {},
   "outputs": [
    {
     "name": "stdout",
     "output_type": "stream",
     "text": [
      "[0, 2, 3, 8, 9]\n",
      "[1]\n"
     ]
    }
   ],
   "source": [
    "list_3=[min(list_2)]\n",
    "list_4=[]\n",
    "for i in range(len(list_1)):\n",
    "    if list_2[i] in list_3:\n",
    "        list_4.append(i)\n",
    "print(list_4)\n",
    "\n",
    "list_5=[max(list_2)]\n",
    "list_6=[]\n",
    "for i in range(len(list_1)):\n",
    "    if list_2[i] in list_5:\n",
    "        list_6.append(i)\n",
    "print(list_6)"
   ]
  },
  {
   "cell_type": "code",
   "execution_count": 4,
   "metadata": {},
   "outputs": [
    {
     "name": "stdout",
     "output_type": "stream",
     "text": [
      "Wer aus der nur mit\n",
      "Informationen\n"
     ]
    }
   ],
   "source": [
    "print(list_1[0],list_1[2],list_1[3],list_1[8],list_1[9])\n",
    "print(list_1[1])"
   ]
  },
  {
   "cell_type": "code",
   "execution_count": 10,
   "metadata": {},
   "outputs": [
    {
     "data": {
      "text/plain": [
       "10"
      ]
     },
     "execution_count": 10,
     "metadata": {},
     "output_type": "execute_result"
    }
   ],
   "source": [
    "len(list_1)"
   ]
  },
  {
   "cell_type": "code",
   "execution_count": 20,
   "metadata": {},
   "outputs": [
    {
     "name": "stdout",
     "output_type": "stream",
     "text": [
      "['wer', 'informationen', 'aus', 'der', 'hölle', 'will', 'kann', 'nicht', 'nur', 'mit']\n"
     ]
    }
   ],
   "source": [
    "for i in range(len(list_1)):\n",
    "    list_1[i] = list_1[i].lower()\n",
    "print(list_1)"
   ]
  },
  {
   "cell_type": "code",
   "execution_count": 29,
   "metadata": {},
   "outputs": [
    {
     "name": "stdout",
     "output_type": "stream",
     "text": [
      "set()\n"
     ]
    }
   ],
   "source": [
    "word_1=(list_1[0])\n",
    "word_2=(list_1[1])\n",
    "word_3=(list_1[2])\n",
    "word_4=(list_1[3])\n",
    "word_5=(list_1[4])\n",
    "word_6=(list_1[5])\n",
    "word_7=(list_1[6])\n",
    "word_8=(list_1[7])\n",
    "word_9=(list_1[8])\n",
    "word_10=(list_1[9])\n",
    "list_7=[word_1[::-1],word_2[::-1],word_3[::-1],word_4[::-1],word_5[::-1],word_6[::-1],word_7[::-1],word_8[::-1],word_9[::-1],word_10[::-1]]\n",
    "set_1=set(list_1) & set(list_7)\n",
    "print(set_1)"
   ]
  },
  {
   "cell_type": "code",
   "execution_count": 30,
   "metadata": {},
   "outputs": [
    {
     "data": {
      "text/plain": [
       "7"
      ]
     },
     "execution_count": 30,
     "metadata": {},
     "output_type": "execute_result"
    }
   ],
   "source": [
    "list_8=[2018,27,2017,160,2003,100,3.3]\n",
    "len(list_8)"
   ]
  },
  {
   "cell_type": "code",
   "execution_count": 34,
   "metadata": {},
   "outputs": [
    {
     "name": "stdout",
     "output_type": "stream",
     "text": [
      "322720\n"
     ]
    }
   ],
   "source": [
    "value_1=list_8[0]*list_8[1]\n",
    "value_2=list_8[1]*list_8[2]\n",
    "value_3=list_8[2]*list_8[3]\n",
    "value_4=list_8[3]*list_8[4]\n",
    "value_5=list_8[4]*list_8[5]\n",
    "value_6=list_8[5]*list_8[6]\n",
    "list_9=[value_1,value_2,value_3,value_4,value_5,value_6]\n",
    "print(max(list_9))"
   ]
  },
  {
   "cell_type": "code",
   "execution_count": 37,
   "metadata": {},
   "outputs": [
    {
     "name": "stdout",
     "output_type": "stream",
     "text": [
      "{8, 9, 3, 15}\n"
     ]
    }
   ],
   "source": [
    "a=[1,2,3,4,5,6,7,8,9,15]\n",
    "b=[3,8,9,11,15]\n",
    "c=set(a) & set(b)\n",
    "print(c)"
   ]
  },
  {
   "cell_type": "code",
   "execution_count": 38,
   "metadata": {},
   "outputs": [
    {
     "name": "stdout",
     "output_type": "stream",
     "text": [
      "[1, 5, 2, 8, -9, 10, -8, -900, 14, -20, 900, 800, -6, 12]\n"
     ]
    }
   ],
   "source": [
    "x = [1, 5, 1, 2, 8, -9, 10, 1, -8, -900, 14, 5, -8, 2, 1, -20, 900, 800, -6, -8, 12, 1]\n",
    "f1_x=list(dict.fromkeys(x))\n",
    "print(f1_x)"
   ]
  },
  {
   "cell_type": "code",
   "execution_count": 39,
   "metadata": {},
   "outputs": [
    {
     "name": "stdout",
     "output_type": "stream",
     "text": [
      "[1, 5, 2, 8, 10, 14, 900, 800, 12]\n"
     ]
    }
   ],
   "source": [
    "f2_x=[item for item in f1_x if item >= 0]\n",
    "print(f2_x)"
   ]
  },
  {
   "cell_type": "code",
   "execution_count": 46,
   "metadata": {},
   "outputs": [
    {
     "name": "stdout",
     "output_type": "stream",
     "text": [
      "14796.0\n"
     ]
    }
   ],
   "source": [
    "x = {\n",
    "    \"cost_price\": 32.67,\n",
    "    \"sell_price\":45.00,\n",
    "    \"inventory\": 1200}\n",
    "list_10=list(x.values())\n",
    "r=(list_10[1]*list_10[2]) - (list_10[0]*list_10[2])\n",
    "print(round(r,2))"
   ]
  }
 ],
 "metadata": {
  "interpreter": {
   "hash": "126b06dd3950ee075bbec4f5a8d9da3a7c7c385767bffed3b81c8ab9743c826b"
  },
  "kernelspec": {
   "display_name": "Python 3.9.7 64-bit",
   "language": "python",
   "name": "python3"
  },
  "language_info": {
   "codemirror_mode": {
    "name": "ipython",
    "version": 3
   },
   "file_extension": ".py",
   "mimetype": "text/x-python",
   "name": "python",
   "nbconvert_exporter": "python",
   "pygments_lexer": "ipython3",
   "version": "3.9.7"
  },
  "orig_nbformat": 4
 },
 "nbformat": 4,
 "nbformat_minor": 2
}
