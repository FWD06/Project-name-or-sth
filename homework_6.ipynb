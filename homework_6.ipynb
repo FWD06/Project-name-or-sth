{
 "cells": [
  {
   "cell_type": "code",
   "execution_count": 64,
   "metadata": {},
   "outputs": [],
   "source": [
    "class F1_driver:\n",
    "    def __init__(self, name, number, country, birth_year, height, weight, rookie, wins, championships):\n",
    "        #attributes\n",
    "        self.name=name\n",
    "        self.number=number\n",
    "        self.country=country\n",
    "        self.birth_year=birth_year\n",
    "        self.height=height\n",
    "        self.weight=weight\n",
    "        self.rookie=rookie\n",
    "        self.wins=wins\n",
    "        self.championships=championships\n",
    "        self.bmi=round(self.weight/(self.height**2)*10000, 2)\n",
    "\n",
    "    def __repr__(self) -> str:\n",
    "        if self.rookie == 'No':\n",
    "            return f'{self.name} is a Formula 1 driver from {self.country} born in {self.birth_year}. His race car number is {self.number}. He is {self.height} cm tall and weighs {self.weight} kg which represents a BMI of {self.bmi}. In his F1 career he has won {self.wins} races and {self.championships} championships so far.'\n",
    "        else:\n",
    "            return f'{self.name} is a Formula 1 driver from {self.country} born in {self.birth_year}. His race car number is {self.number}. He is {self.height} cm tall and weighs {self.weight} kg which represents a BMI of {self.bmi}. He is driving his first Formula 1 season in 2021.'\n",
    "\n",
    "    def __eq__(self, second_driver) -> bool:\n",
    "        return self.championships==second_driver.championships\n",
    "\n",
    "    def __lt__(self,second_driver) -> bool:\n",
    "        return self.championships<second_driver.championships"
   ]
  },
  {
   "cell_type": "code",
   "execution_count": 66,
   "metadata": {},
   "outputs": [],
   "source": [
    "#data pre 2021 season\n",
    "ham=F1_driver('Lewis Hamilton',44,'Great Britain',1985,174,73,'No',95,7)\n",
    "bot=F1_driver('Valtteri Bottas',77, 'Finland',1989,173,69,'No',9,0)\n",
    "per=F1_driver('Sergio Perez',11,'Mexico',1990,173,64,'No',1,0)\n",
    "ver=F1_driver('Max Verstappen',33,'Netherlands',1997,181,72,'No',10,0)\n",
    "ric=F1_driver('Daniel Ricciardo',3,'Australia',1989,180,66,'No',7,0)\n",
    "nor=F1_driver('Lando Norris',4,'Great Britain',1999,170,64,'No',0,0)\n",
    "vet=F1_driver('Sebastian Vettel',5,'Germany',1987,175,64,'No',53,4)\n",
    "str=F1_driver('Lance Stroll',18,'Canada',1998,182,74,'No',0,0)\n",
    "alo=F1_driver('Fernando Alonso',14,'Spain',1981,171,64,'No',32,2)\n",
    "oco=F1_driver('Esteban Ocon',31,'France',1996,185,68,'No',0,0)\n",
    "lec=F1_driver('Charles Leclerc',16,'Monaco',1997,180,68,'No',2,0)\n",
    "sai=F1_driver('Carlos Sainz',55,'Spain',1994,177,66,'No',0,0)\n",
    "gas=F1_driver('Pierre Gasly',10,1996,'France',177,71,'No',1,0)\n",
    "tsu=F1_driver('Yuki Tsunoda',22,'Japan',2000,160,53,'Yes',0,0)\n",
    "rai=F1_driver('Kimi Räikkönen',7,'Finland',1979,175,71,'No',21,1)\n",
    "gio=F1_driver('Antonio Giovinazzi',99,'Italy',1993,183,70,'No',0,0)\n",
    "maz=F1_driver('Nikita Mazepin',9,'Russia',1999,175,68,'Yes',0,0)\n",
    "msc=F1_driver('Mick Schumacher',47,'Germany',1999,176,68,'Yes',0,0)\n",
    "lat=F1_driver('Nicholas Latifi',6,'Canada',1995,182,73,'No',0,0)\n",
    "rus=F1_driver('George Russell',63,'Great Britain',1998,186,68,'No',0,0)"
   ]
  },
  {
   "cell_type": "code",
   "execution_count": 67,
   "metadata": {},
   "outputs": [
    {
     "name": "stdout",
     "output_type": "stream",
     "text": [
      "Kimi Räikkönen is a Formula 1 driver from Finland born in 1979. His race car number is 7. He is 175 cm tall and weighs 71 kg which represents a BMI of 23.18. In his F1 career he has won 21 races and 1 championships so far.\n"
     ]
    }
   ],
   "source": [
    "print(rai)"
   ]
  },
  {
   "cell_type": "code",
   "execution_count": 68,
   "metadata": {},
   "outputs": [
    {
     "data": {
      "text/plain": [
       "True"
      ]
     },
     "execution_count": 68,
     "metadata": {},
     "output_type": "execute_result"
    }
   ],
   "source": [
    "bot == per"
   ]
  },
  {
   "cell_type": "code",
   "execution_count": 69,
   "metadata": {},
   "outputs": [
    {
     "data": {
      "text/plain": [
       "True"
      ]
     },
     "execution_count": 69,
     "metadata": {},
     "output_type": "execute_result"
    }
   ],
   "source": [
    "ham > bot"
   ]
  }
 ],
 "metadata": {
  "interpreter": {
   "hash": "126b06dd3950ee075bbec4f5a8d9da3a7c7c385767bffed3b81c8ab9743c826b"
  },
  "kernelspec": {
   "display_name": "Python 3.9.7 64-bit",
   "language": "python",
   "name": "python3"
  },
  "language_info": {
   "codemirror_mode": {
    "name": "ipython",
    "version": 3
   },
   "file_extension": ".py",
   "mimetype": "text/x-python",
   "name": "python",
   "nbconvert_exporter": "python",
   "pygments_lexer": "ipython3",
   "version": "3.9.7"
  },
  "orig_nbformat": 4
 },
 "nbformat": 4,
 "nbformat_minor": 2
}
