{
 "cells": [
  {
   "cell_type": "code",
   "execution_count": 11,
   "metadata": {},
   "outputs": [],
   "source": [
    "def function_1(list_1, list_2):\n",
    "    for number_1 in list_1[0:]:\n",
    "        if number_1>10:\n",
    "            list_1.remove(number_1)\n",
    "    for number_2 in list_2[0:]:\n",
    "        if number_2<10: #at least two digits means 10 or more\n",
    "            list_2.remove(number_2)\n",
    "    value_1=sum(list_1)\n",
    "    value_2=sum(list_2)\n",
    "    print(value_1)\n",
    "    print(value_2)\n",
    "    return value_1*value_2\n"
   ]
  },
  {
   "cell_type": "code",
   "execution_count": 12,
   "metadata": {},
   "outputs": [
    {
     "name": "stdout",
     "output_type": "stream",
     "text": [
      "34\n",
      "771\n"
     ]
    },
    {
     "data": {
      "text/plain": [
       "26214"
      ]
     },
     "execution_count": 12,
     "metadata": {},
     "output_type": "execute_result"
    }
   ],
   "source": [
    "function_1([10,9,6,16,15,55,2,7],[20,642,33,76,9,7,2])\n",
    "# I think that the result in the task is wrong, 26,214 is also what I get when calculating the value manually."
   ]
  },
  {
   "cell_type": "code",
   "execution_count": 24,
   "metadata": {},
   "outputs": [],
   "source": [
    "def function_2 (length:int, width:int, height:int, shape:str):\n",
    "    if shape == 'cuboid':\n",
    "        perimeter=length*(length+width+height)\n",
    "        area=2*(length*height+length*width+width*height)\n",
    "        volume=length*width*height\n",
    "        print(f'Perimeter is {perimeter}, area is {area}, volume is {volume}.')\n",
    "    elif shape == 'sphere':\n",
    "        perimeter2=2*3.14*length\n",
    "        area2=4*3.14*length**2\n",
    "        volume2=4/3*3.14*length**3\n",
    "        print(f'Perimeter is {perimeter2}, area is {area2}, volume is {volume2}.')\n",
    "    else:\n",
    "        print (f'I do not know the shape {shape}. Aborting')\n"
   ]
  },
  {
   "cell_type": "code",
   "execution_count": 25,
   "metadata": {},
   "outputs": [
    {
     "name": "stdout",
     "output_type": "stream",
     "text": [
      "Perimeter is 48, area is 94, volume is 60.\n"
     ]
    }
   ],
   "source": [
    "function_2(4,3,5,'cuboid') #Result in the task for the area (12) seems to be wrong."
   ]
  },
  {
   "cell_type": "code",
   "execution_count": 26,
   "metadata": {},
   "outputs": [
    {
     "name": "stdout",
     "output_type": "stream",
     "text": [
      "Perimeter is 25.12, area is 200.96, volume is 267.94666666666666.\n"
     ]
    }
   ],
   "source": [
    "function_2(4,3,5,'sphere')"
   ]
  },
  {
   "cell_type": "code",
   "execution_count": 27,
   "metadata": {},
   "outputs": [
    {
     "name": "stdout",
     "output_type": "stream",
     "text": [
      "I do not know the shape cone. Aborting\n"
     ]
    }
   ],
   "source": [
    "function_2(4,3,5,'cone')"
   ]
  }
 ],
 "metadata": {
  "interpreter": {
   "hash": "126b06dd3950ee075bbec4f5a8d9da3a7c7c385767bffed3b81c8ab9743c826b"
  },
  "kernelspec": {
   "display_name": "Python 3.9.7 64-bit",
   "language": "python",
   "name": "python3"
  },
  "language_info": {
   "codemirror_mode": {
    "name": "ipython",
    "version": 3
   },
   "file_extension": ".py",
   "mimetype": "text/x-python",
   "name": "python",
   "nbconvert_exporter": "python",
   "pygments_lexer": "ipython3",
   "version": "3.9.7"
  },
  "orig_nbformat": 4
 },
 "nbformat": 4,
 "nbformat_minor": 2
}
