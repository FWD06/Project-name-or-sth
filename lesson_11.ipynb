{
 "cells": [
  {
   "cell_type": "code",
   "execution_count": 16,
   "metadata": {},
   "outputs": [],
   "source": [
    "#homework 6\n",
    "def k_sum(list_1,k):\n",
    "    sums=[]\n",
    "    for idx in range(len(list_1)-k+1):\n",
    "        sums.append(sum( [list_1[neighbor] for neighbor in range(idx,idx + k)]))\n",
    "    print(f'sums are: {sums}')\n",
    "    return max(sums)"
   ]
  },
  {
   "cell_type": "code",
   "execution_count": 19,
   "metadata": {},
   "outputs": [
    {
     "name": "stdout",
     "output_type": "stream",
     "text": [
      "sums are: [28, 2003, 2025, 69, 77, 76, 115]\n"
     ]
    },
    {
     "data": {
      "text/plain": [
       "2025"
      ]
     },
     "execution_count": 19,
     "metadata": {},
     "output_type": "execute_result"
    }
   ],
   "source": [
    "k_sum ([24,4,1999,26,43,34,42,73],2)"
   ]
  },
  {
   "cell_type": "code",
   "execution_count": 20,
   "metadata": {},
   "outputs": [],
   "source": [
    "def k_sum(list_1, k):\n",
    "    sums = []\n",
    "    for idx in range( len(list_1) - k + 1 ):\n",
    "        # print (idx)\n",
    "        sums.append( sum( [ list_1[neighbor_idx] for neighbor_idx in range(idx, idx + k) ] ) )\n",
    "        # tmp_sum = 0\n",
    "        # for neighbor_idx in range(idx, idx + k):\n",
    "        #     tmp_sum += list_1[neighbor_idx]\n",
    "        # sums.append(sums.append)\n",
    "    print (f'sums are: {sums}')\n",
    "    return max(sums)\n"
   ]
  },
  {
   "cell_type": "code",
   "execution_count": 21,
   "metadata": {},
   "outputs": [
    {
     "name": "stdout",
     "output_type": "stream",
     "text": [
      "sums are: [28, 2003, 2025, 69, 77, 76, 115]\n"
     ]
    },
    {
     "data": {
      "text/plain": [
       "2025"
      ]
     },
     "execution_count": 21,
     "metadata": {},
     "output_type": "execute_result"
    }
   ],
   "source": [
    "k_sum ([24,4,1999,26,43,34,42,73],2)"
   ]
  },
  {
   "cell_type": "code",
   "execution_count": 22,
   "metadata": {},
   "outputs": [],
   "source": [
    "def k_sum(list_1, k):\n",
    "    sums = []\n",
    "    for idx in range( len(list_1) - k + 1 ):\n",
    "        # print (idx)\n",
    "        sums.append( sum( [ list_1[neighbor] for neighbor in range(idx, idx + k) ] ) )\n",
    "    print (f'sums are: {sums}')\n",
    "    return max(sums)"
   ]
  },
  {
   "cell_type": "code",
   "execution_count": 23,
   "metadata": {},
   "outputs": [
    {
     "name": "stdout",
     "output_type": "stream",
     "text": [
      "sums are: [28, 2003, 2025, 69, 77, 76, 115]\n"
     ]
    },
    {
     "data": {
      "text/plain": [
       "2025"
      ]
     },
     "execution_count": 23,
     "metadata": {},
     "output_type": "execute_result"
    }
   ],
   "source": [
    "k_sum ([24,4,1999,26,43,34,42,73],2)"
   ]
  },
  {
   "cell_type": "code",
   "execution_count": 24,
   "metadata": {},
   "outputs": [],
   "source": [
    "def k_diff(list_1,k):\n",
    "    diff_list=[]\n",
    "    for number_1 in list_1:\n",
    "        for number_2 in list_1:\n",
    "            if abs(number_1 - number_2) == k:\n",
    "                diff_list.append((number_1,number_2))\n",
    "\n",
    "    if diff_list:\n",
    "        return diff_list\n",
    "    else:\n",
    "        return False\n"
   ]
  },
  {
   "cell_type": "code",
   "execution_count": 25,
   "metadata": {},
   "outputs": [
    {
     "name": "stdout",
     "output_type": "stream",
     "text": [
      "[(2, 4), (2, 4), (2, 4), (4, 2), (4, 2), (4, 6), (3, 5), (3, 5), (7, 5), (7, 9), (7, 5), (5, 3), (5, 7), (5, 7), (5, 3), (2, 4), (2, 4), (2, 4), (4, 2), (4, 2), (4, 6), (7, 5), (7, 9), (7, 5), (9, 7), (9, 7), (5, 3), (5, 7), (5, 7), (5, 3), (3, 5), (3, 5), (4, 2), (4, 2), (4, 6), (6, 4), (6, 4), (6, 4)]\n",
      "[(2, 5), (2, 5), (4, 7), (4, 7), (3, 6), (7, 4), (7, 4), (7, 4), (5, 2), (5, 2), (2, 5), (2, 5), (4, 7), (4, 7), (7, 4), (7, 4), (7, 4), (9, 6), (5, 2), (5, 2), (3, 6), (4, 7), (4, 7), (6, 3), (6, 9), (6, 3)]\n",
      "[(2, 6), (3, 7), (3, 7), (7, 3), (7, 3), (5, 9), (2, 6), (13, 9), (7, 3), (7, 3), (9, 5), (9, 13), (9, 5), (5, 9), (3, 7), (3, 7), (6, 2), (6, 2)]\n",
      "[(2, 7), (2, 7), (4, 9), (7, 2), (7, 2), (2, 7), (2, 7), (4, 9), (7, 2), (7, 2), (9, 4), (9, 4), (9, 4), (4, 9)]\n",
      "[(3, 9), (7, 13), (13, 7), (13, 7), (7, 13), (9, 3), (9, 3), (3, 9)]\n",
      "[(2, 9), (2, 9), (13, 6), (9, 2), (9, 2), (6, 13)]\n",
      "[(5, 13), (13, 5), (13, 5), (5, 13)]\n",
      "[(4, 13), (56, 65), (4, 13), (13, 4), (13, 4), (13, 4), (4, 13), (65, 56)]\n"
     ]
    }
   ],
   "source": [
    "print(k_diff([2,4,3,7,56,5,2,4,13,7,9,5,3,4,65,6],2))\n",
    "print(k_diff([2,4,3,7,56,5,2,4,13,7,9,5,3,4,65,6],3))\n",
    "print(k_diff([2,4,3,7,56,5,2,4,13,7,9,5,3,4,65,6],4))\n",
    "print(k_diff([2,4,3,7,56,5,2,4,13,7,9,5,3,4,65,6],5))\n",
    "print(k_diff([2,4,3,7,56,5,2,4,13,7,9,5,3,4,65,6],6))\n",
    "print(k_diff([2,4,3,7,56,5,2,4,13,7,9,5,3,4,65,6],7))\n",
    "print(k_diff([2,4,3,7,56,5,2,4,13,7,9,5,3,4,65,6],8))\n",
    "print(k_diff([2,4,3,7,56,5,2,4,13,7,9,5,3,4,65,6],9))"
   ]
  },
  {
   "cell_type": "code",
   "execution_count": 32,
   "metadata": {},
   "outputs": [],
   "source": [
    "# object description, template\n",
    "class AbstractPipe:\n",
    "    def __init__(self):\n",
    "        pass\n",
    "        # attributes\n",
    "        #self.diameter = diameter\n",
    "        #self.crossection_type = crossection_type\n",
    "\n",
    "    # methods\n",
    "    #def __repr__(self) -> str:\n",
    "    #    return f'A {self.crossection_type} pipe with a diameter of {self.diameter}'\n",
    "\n",
    "    #def __eq__(self, second_pipe) -> bool:\n",
    "    #    return self.diameter == second_pipe.diameter\n",
    "    \n",
    "    #def __lt__(self, second_pipe) -> bool:\n",
    "    #    return self.diameter < second_pipe.diameter\n",
    "\n",
    "    def crossection_area(self):\n",
    "        raise NotImplementedError()\n",
    "\n",
    "    def flow_rate(self, velocity):\n",
    "        return self.crossection_area() * velocity\n"
   ]
  },
  {
   "cell_type": "code",
   "execution_count": 33,
   "metadata": {},
   "outputs": [],
   "source": [
    "#object description, template\n",
    "class RectanglePipe(AbstractPipe):\n",
    "    def __init__(self,width,height):\n",
    "        #attributes\n",
    "        super().__init__()\n",
    "        self.width=width\n",
    "        self.height=height\n",
    "\n",
    "    def crossection_area(self):\n",
    "        return self.width*self.height"
   ]
  },
  {
   "cell_type": "code",
   "execution_count": 35,
   "metadata": {},
   "outputs": [],
   "source": [
    "#object description, template\n",
    "class RoundPipe(AbstractPipe):\n",
    "    def __init__(self,radius):\n",
    "        #attributes\n",
    "        super().__init__()\n",
    "        self.radius=radius\n",
    "\n",
    "    def crossection_area(self):\n",
    "        return 3.14*self.radius**2"
   ]
  },
  {
   "cell_type": "code",
   "execution_count": 34,
   "metadata": {},
   "outputs": [
    {
     "name": "stdout",
     "output_type": "stream",
     "text": [
      "3.0\n",
      "11.16\n"
     ]
    }
   ],
   "source": [
    "rectangle_pipe_1=RectanglePipe(1,2)\n",
    "rectangle_pipe_2=RectanglePipe(3,3)\n",
    "print(rectangle_pipe_1.flow_rate(1.5))\n",
    "print(rectangle_pipe_2.flow_rate(1.24))"
   ]
  },
  {
   "cell_type": "code",
   "execution_count": 36,
   "metadata": {},
   "outputs": [
    {
     "name": "stdout",
     "output_type": "stream",
     "text": [
      "1.1775\n",
      "10.5975\n"
     ]
    }
   ],
   "source": [
    "round_pipe_1 = RoundPipe(0.5)\n",
    "round_pipe_2 = RoundPipe(1.5)\n",
    "\n",
    "print (round_pipe_1.flow_rate(1.5) )\n",
    "print (round_pipe_2.flow_rate(1.5) )"
   ]
  },
  {
   "cell_type": "code",
   "execution_count": 39,
   "metadata": {},
   "outputs": [],
   "source": [
    "class BankAccount:\n",
    "    def __init__(self,name,surname) -> None:\n",
    "        self.name=name\n",
    "        self.surname=surname\n",
    "        self.balance=0\n",
    "\n",
    "    def add(self,amount_of_money):\n",
    "        self.balance += amount_of_money\n",
    "\n",
    "    def widraw(self,amount_of_money):\n",
    "        if self.balance - amount_of_money < 0:\n",
    "            raise ValueError('Not enough money in the account')\n",
    "        print (f'Withdrawing {amount_of_money} from the account of {self.name} {self.surname}')\n",
    "        self.balance -= amount_of_money\n",
    "\n",
    "    def check_balance(self):\n",
    "        return self.balance\n",
    "\n",
    "    def __repr__(self) -> str:\n",
    "        return f'Bank account of {self.name} {self.surname}'"
   ]
  },
  {
   "cell_type": "code",
   "execution_count": 40,
   "metadata": {},
   "outputs": [
    {
     "name": "stdout",
     "output_type": "stream",
     "text": [
      "Bank account of Bob Greenstone\n",
      "0\n",
      "1200\n",
      "Withdrawing 200 from the account of Bob Greenstone\n",
      "1000\n"
     ]
    }
   ],
   "source": [
    "Bob_account = BankAccount('Bob', 'Greenstone') \n",
    "print( Bob_account)\n",
    "print (Bob_account.check_balance() )\n",
    "Bob_account.add(1200)\n",
    "print (Bob_account.check_balance() )\n",
    "# Bob_account.widraw(1500)\n",
    "Bob_account.widraw(200)\n",
    "print (Bob_account.check_balance() )"
   ]
  },
  {
   "cell_type": "code",
   "execution_count": 41,
   "metadata": {},
   "outputs": [],
   "source": [
    "class Bank:\n",
    "    def __init__(self,bank_name)->None:\n",
    "        self.bank_name=bank_name\n",
    "        self.accounts=[]\n",
    "\n",
    "    def add_account (self,name,surname):\n",
    "        self.accounts.append(BankAccount(name,surname))\n",
    "\n",
    "    def add_to_account(self, name,surname,amount_of_money):\n",
    "        person_account=None\n",
    "        for account in self.accounts:\n",
    "            if name == account.name and surname == account.surname:\n",
    "                person_account=account\n",
    "                break\n",
    "        if person_account is None:\n",
    "            raise ValueError(f'account of {name} {surname} was not found in the system')\n",
    "\n",
    "        person_account.withdraw(amount_of_money)\n"
   ]
  },
  {
   "cell_type": "code",
   "execution_count": 42,
   "metadata": {},
   "outputs": [
    {
     "name": "stdout",
     "output_type": "stream",
     "text": [
      "[]\n",
      "[Bank account of Bob Greenstone, Bank account of Amy Silverstone]\n"
     ]
    },
    {
     "ename": "AttributeError",
     "evalue": "'BankAccount' object has no attribute 'withdraw'",
     "output_type": "error",
     "traceback": [
      "\u001b[1;31m---------------------------------------------------------------------------\u001b[0m",
      "\u001b[1;31mAttributeError\u001b[0m                            Traceback (most recent call last)",
      "\u001b[1;32m~\\AppData\\Local\\Temp/ipykernel_6312/1832251953.py\u001b[0m in \u001b[0;36m<module>\u001b[1;34m\u001b[0m\n\u001b[0;32m      4\u001b[0m \u001b[0mmy_bank\u001b[0m\u001b[1;33m.\u001b[0m\u001b[0madd_account\u001b[0m\u001b[1;33m(\u001b[0m\u001b[1;34m'Amy'\u001b[0m\u001b[1;33m,\u001b[0m \u001b[1;34m'Silverstone'\u001b[0m\u001b[1;33m)\u001b[0m\u001b[1;33m\u001b[0m\u001b[1;33m\u001b[0m\u001b[0m\n\u001b[0;32m      5\u001b[0m \u001b[0mprint\u001b[0m \u001b[1;33m(\u001b[0m\u001b[0mmy_bank\u001b[0m\u001b[1;33m.\u001b[0m\u001b[0maccounts\u001b[0m \u001b[1;33m)\u001b[0m\u001b[1;33m\u001b[0m\u001b[1;33m\u001b[0m\u001b[0m\n\u001b[1;32m----> 6\u001b[1;33m \u001b[0mmy_bank\u001b[0m\u001b[1;33m.\u001b[0m\u001b[0madd_to_account\u001b[0m\u001b[1;33m(\u001b[0m\u001b[1;34m'Bob'\u001b[0m\u001b[1;33m,\u001b[0m \u001b[1;34m'Greenstone'\u001b[0m\u001b[1;33m,\u001b[0m \u001b[1;36m1000\u001b[0m\u001b[1;33m)\u001b[0m\u001b[1;33m\u001b[0m\u001b[1;33m\u001b[0m\u001b[0m\n\u001b[0m\u001b[0;32m      7\u001b[0m \u001b[1;31m# my_bank.add_to_account('Amy', 'Greenstone', 1000) # wrong name\u001b[0m\u001b[1;33m\u001b[0m\u001b[1;33m\u001b[0m\u001b[0m\n\u001b[0;32m      8\u001b[0m \u001b[1;32mfor\u001b[0m \u001b[0maccount\u001b[0m \u001b[1;32min\u001b[0m \u001b[0mmy_bank\u001b[0m\u001b[1;33m.\u001b[0m\u001b[0maccounts\u001b[0m\u001b[1;33m:\u001b[0m\u001b[1;33m\u001b[0m\u001b[1;33m\u001b[0m\u001b[0m\n",
      "\u001b[1;32m~\\AppData\\Local\\Temp/ipykernel_6312/2537139170.py\u001b[0m in \u001b[0;36madd_to_account\u001b[1;34m(self, name, surname, amount_of_money)\u001b[0m\n\u001b[0;32m     16\u001b[0m             \u001b[1;32mraise\u001b[0m \u001b[0mValueError\u001b[0m\u001b[1;33m(\u001b[0m\u001b[1;34mf'account of {name} {surname} was not found in the system'\u001b[0m\u001b[1;33m)\u001b[0m\u001b[1;33m\u001b[0m\u001b[1;33m\u001b[0m\u001b[0m\n\u001b[0;32m     17\u001b[0m \u001b[1;33m\u001b[0m\u001b[0m\n\u001b[1;32m---> 18\u001b[1;33m         \u001b[0mperson_account\u001b[0m\u001b[1;33m.\u001b[0m\u001b[0mwithdraw\u001b[0m\u001b[1;33m(\u001b[0m\u001b[0mamount_of_money\u001b[0m\u001b[1;33m)\u001b[0m\u001b[1;33m\u001b[0m\u001b[1;33m\u001b[0m\u001b[0m\n\u001b[0m",
      "\u001b[1;31mAttributeError\u001b[0m: 'BankAccount' object has no attribute 'withdraw'"
     ]
    }
   ],
   "source": [
    "my_bank = Bank('my_bank')\n",
    "print (my_bank.accounts )\n",
    "my_bank.add_account('Bob', 'Greenstone')\n",
    "my_bank.add_account('Amy', 'Silverstone')\n",
    "print (my_bank.accounts )\n",
    "my_bank.add_to_account('Bob', 'Greenstone', 1000)\n",
    "# my_bank.add_to_account('Amy', 'Greenstone', 1000) # wrong name\n",
    "for account in my_bank.accounts:\n",
    "    print (account.check_balance())\n",
    "\n",
    "my_bank.widraw_from_account('Bob', 'Greenstone', 100)\n",
    "# my_bank.widraw_from_account('Bob', 'Greenstone', 1450)\n"
   ]
  }
 ],
 "metadata": {
  "interpreter": {
   "hash": "126b06dd3950ee075bbec4f5a8d9da3a7c7c385767bffed3b81c8ab9743c826b"
  },
  "kernelspec": {
   "display_name": "Python 3.9.7 64-bit",
   "language": "python",
   "name": "python3"
  },
  "language_info": {
   "codemirror_mode": {
    "name": "ipython",
    "version": 3
   },
   "file_extension": ".py",
   "mimetype": "text/x-python",
   "name": "python",
   "nbconvert_exporter": "python",
   "pygments_lexer": "ipython3",
   "version": "3.9.7"
  },
  "orig_nbformat": 4
 },
 "nbformat": 4,
 "nbformat_minor": 2
}
