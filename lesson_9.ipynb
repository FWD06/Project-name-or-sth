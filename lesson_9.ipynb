{
 "cells": [
  {
   "cell_type": "code",
   "execution_count": 1,
   "metadata": {},
   "outputs": [],
   "source": [
    "import string\n",
    "import random\n",
    "\n",
    "def password_generator(length:int) -> str:\n",
    "    symbols = string.printable\n",
    "    password = [random.choice (symbols) for idx in range(length)]\n",
    "    password = ''.join(password)\n",
    "    return password"
   ]
  },
  {
   "cell_type": "code",
   "execution_count": 4,
   "metadata": {},
   "outputs": [
    {
     "name": "stdout",
     "output_type": "stream",
     "text": [
      "\u000b@x2GW\"]T8(!ZC\n"
     ]
    },
    {
     "data": {
      "text/plain": [
       "'\\x0b@x2GW\"]T8(!ZC'"
      ]
     },
     "execution_count": 4,
     "metadata": {},
     "output_type": "execute_result"
    }
   ],
   "source": [
    "password_generator(14)"
   ]
  },
  {
   "cell_type": "code",
   "execution_count": 5,
   "metadata": {},
   "outputs": [],
   "source": [
    "import string\n",
    "import random\n",
    "\n",
    "def password_generator(length: int) -> str:\n",
    "    symbols = string.printable\n",
    "    password = [ random.choice(symbols) for idx in range(length)]\n",
    "    password = ''.join(password)\n",
    "    return password\n"
   ]
  },
  {
   "cell_type": "code",
   "execution_count": 6,
   "metadata": {},
   "outputs": [
    {
     "name": "stdout",
     "output_type": "stream",
     "text": [
      "starting try\n",
      "handling error\n"
     ]
    }
   ],
   "source": [
    "try:\n",
    "    print('starting try') \n",
    "    x=1/0 #tries until here, then jumps to except\n",
    "    print('end of try')\n",
    "except:\n",
    "    print('handling error')\n",
    "    print('end of except')"
   ]
  },
  {
   "cell_type": "code",
   "execution_count": 7,
   "metadata": {},
   "outputs": [
    {
     "name": "stdout",
     "output_type": "stream",
     "text": [
      "starting try\n",
      "end of try\n"
     ]
    }
   ],
   "source": [
    "try:\n",
    "    print('starting try') \n",
    "    x=1/0.5\n",
    "    print('end of try') #if try is completely possible, only this part gets printed\n",
    "except:\n",
    "    print('handling error')\n",
    "    print('end of except')"
   ]
  },
  {
   "cell_type": "code",
   "execution_count": 8,
   "metadata": {},
   "outputs": [
    {
     "name": "stdout",
     "output_type": "stream",
     "text": [
      "starting try\n",
      "handling error\n",
      "end of except\n",
      "doing final part\n"
     ]
    }
   ],
   "source": [
    "try:\n",
    "    print('starting try') \n",
    "    x=1/0 #tries until here, then jumps to except\n",
    "    print('end of try')\n",
    "except:\n",
    "    print('handling error')\n",
    "    print('end of except')\n",
    "finally: #will always be executed, no matter if try works or not\n",
    "    print('doing final part') "
   ]
  },
  {
   "cell_type": "code",
   "execution_count": 14,
   "metadata": {},
   "outputs": [
    {
     "name": "stdout",
     "output_type": "stream",
     "text": [
      "starting try\n",
      "index error occured, taking first value\n",
      "doing final part\n"
     ]
    }
   ],
   "source": [
    "#how to find specific error\n",
    "text_2='boom'\n",
    "my_list=[1,2,3]\n",
    "try:\n",
    "    print('starting try')\n",
    "    text='asfs' + text_2\n",
    "    #x=1/0\n",
    "    value=my_list[3]\n",
    "    print('end of try')\n",
    "#except ZeroDivisionError as e: #define error for except\n",
    "    print('handling error')\n",
    "    print(e)\n",
    "    print('end of except')\n",
    "except IndexError as e:\n",
    "    print('index error occured, taking first value')\n",
    "finally: #will always be executed, no matter if try works or not\n",
    "    print('doing final part') "
   ]
  }
 ],
 "metadata": {
  "interpreter": {
   "hash": "126b06dd3950ee075bbec4f5a8d9da3a7c7c385767bffed3b81c8ab9743c826b"
  },
  "kernelspec": {
   "display_name": "Python 3.9.7 64-bit",
   "language": "python",
   "name": "python3"
  },
  "language_info": {
   "codemirror_mode": {
    "name": "ipython",
    "version": 3
   },
   "file_extension": ".py",
   "mimetype": "text/x-python",
   "name": "python",
   "nbconvert_exporter": "python",
   "pygments_lexer": "ipython3",
   "version": "3.9.7"
  },
  "orig_nbformat": 4
 },
 "nbformat": 4,
 "nbformat_minor": 2
}
